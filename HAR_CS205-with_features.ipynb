{
 "cells": [
  {
   "cell_type": "markdown",
   "metadata": {},
   "source": [
    "## Imports"
   ]
  },
  {
   "cell_type": "code",
   "execution_count": 335,
   "metadata": {
    "collapsed": true
   },
   "outputs": [],
   "source": [
    "import pandas as pd\n",
    "import numpy as np\n",
    "import os\n",
    "from sklearn.tree import DecisionTreeClassifier\n",
    "from sklearn.datasets import load_iris\n",
    "from sklearn.model_selection import cross_val_score\n",
    "import math\n",
    "from statsmodels import robust\n",
    "from scipy.stats import iqr"
   ]
  },
  {
   "cell_type": "code",
   "execution_count": 336,
   "metadata": {},
   "outputs": [],
   "source": [
    "## Features\n",
    "\n",
    "def mean(x, y, z):\n",
    "    \"\"\"Calculates mean\"\"\"\n",
    "    mean_x = np.mean(x)\n",
    "    mean_y = np.mean(y)\n",
    "    mean_z = np.mean(z)\n",
    "    return mean_x, mean_y, mean_z\n",
    "\n",
    "def std_dev(x, y, z):\n",
    "    \"\"\"Calculates standard deviation\"\"\"\n",
    "    std_x = np.std(x)\n",
    "    std_y = np.std(y)\n",
    "    std_z = np.std(z)\n",
    "    return std_x, std_y, std_z  \n",
    "    \n",
    "def mad(x, y, z):\n",
    "    \"\"\"Calculates median absolute deviation\"\"\"\n",
    "    mad_x = np.median(np.abs(x - np.median(x)))\n",
    "    mad_y = np.median(np.abs(y - np.median(y)))\n",
    "    mad_z = np.median(np.abs(z - np.median(z)))\n",
    "    return mad_x, mad_y, mad_z\n",
    "\n",
    "def minimum(x, y, z):\n",
    "    \"\"\"Calculates minimum\"\"\"\n",
    "    return min(x), min(y), min(z)\n",
    "\n",
    "def maximum(x, y, z):\n",
    "    \"\"\"Calculates maximum\"\"\"\n",
    "    return max(x), max(y), max(z)\n",
    "\n",
    "def energy_measure(x, y, z):\n",
    "    \"\"\"Calculates energy measures\"\"\"\n",
    "    em_x = np.mean(np.square(x))\n",
    "    em_y = np.mean(np.square(y))\n",
    "    em_z = np.mean(np.square(z))\n",
    "    return em_x, em_y, em_z\n",
    "\n",
    "def inter_quartile_range(x, y, z):\n",
    "    \"\"\"Calculates inter-quartile range\"\"\"\n",
    "    iqr_x = np.subtract(*np.percentile(x, [75, 25]))\n",
    "    iqr_y = np.subtract(*np.percentile(y, [75, 25]))\n",
    "    iqr_z = np.subtract(*np.percentile(z, [75, 25]))\n",
    "    return iqr_x, iqr_y, iqr_z\n",
    "\n",
    "def sma(x, y, z):\n",
    "    \"\"\"Calculates signal magnitude area\"\"\"   \n",
    "    abs_x = np.absolute(x)\n",
    "    abs_y = np.absolute(y)\n",
    "    abs_z = np.absolute(z)\n",
    "    return np.mean(abs_x), np.mean(abs_y), np.mean(abs_z)"
   ]
  },
  {
   "cell_type": "code",
   "execution_count": 337,
   "metadata": {
    "collapsed": true
   },
   "outputs": [],
   "source": [
    "def process_avg_acceleration(input_df, output_df):\n",
    "    i = 0\n",
    "    while i < len(input_df[0]):\n",
    "        max_window = input_df[0][i] + 2000\n",
    "        min_window = input_df[0][i]\n",
    "        if i != 0:                                  #handling overlap\n",
    "            min_window -= 1000\n",
    "            max_window -= 1000\n",
    "            i -= int(count/2)\n",
    "        x = [input_df[1][i]]\n",
    "        y = [input_df[2][i]]\n",
    "        z = [input_df[3][i]]\n",
    "        \n",
    "        count = 0\n",
    "        while min_window < max_window:\n",
    "            i += 1\n",
    "            count += 1\n",
    "            try:\n",
    "                x.append(input_df[1][i])\n",
    "                y.append(input_df[2][i])\n",
    "                z.append(input_df[3][i])\n",
    "                min_window = input_df[0][i]\n",
    "            except KeyError:\n",
    "                break\n",
    "        \n",
    "        acc_columns = ['mean_acc_x', 'mean_acc_y', 'mean_acc_z', \n",
    "                       'std_acc_x', 'std_acc_y', 'std_acc_z', \n",
    "                       'mad_acc_x', 'mad_acc_y', 'mad_acc_z',\n",
    "                       'min_acc_x', 'min_acc_y', 'min_acc_z', \n",
    "                       'max_acc_x', 'max_acc_y', 'max_acc_z', \n",
    "                       'em_acc_x', 'em_acc_y', 'em_acc_z', \n",
    "                       'iqr_acc_x', 'iqr_acc_y', 'iqr_acc_z', \n",
    "                       'sma_acc_x', 'sma_acc_y', 'sma_acc_z']\n",
    "\n",
    "        acc_data = list(mean(x, y, z)+std_dev(x, y, z)+mad(x, y, z)+minimum(x, y, z)+maximum(x, y, z)+energy_measure(x, y, z)+inter_quartile_range(x, y, z)+sma(x, y, z))\n",
    "        output_df = output_df.append(pd.Series(acc_data, index=acc_columns), ignore_index=True)\n",
    "\n",
    "    return output_df"
   ]
  },
  {
   "cell_type": "code",
   "execution_count": 338,
   "metadata": {
    "collapsed": true
   },
   "outputs": [],
   "source": [
    "def process_avg_gyroscope(input_df, output_df):\n",
    "\n",
    "    label = []\n",
    "    \n",
    "    i = 0\n",
    "    while i < len(input_df[0]):\n",
    "        max_window = input_df[0][i] + 2000\n",
    "        min_window = input_df[0][i]\n",
    "        if i != 0:                                                                 #handling overlap\n",
    "            min_window -= 1000\n",
    "            max_window -= 1000\n",
    "            i -= int(count/2)\n",
    "        x = [input_df[1][i]]\n",
    "        y = [input_df[2][i]]\n",
    "        z = [input_df[3][i]]\n",
    "        count = 0\n",
    "        while min_window < max_window:\n",
    "            i += 1\n",
    "            count += 1\n",
    "            try:\n",
    "                x.append(input_df[1][i])\n",
    "                y.append(input_df[2][i])\n",
    "                z.append(input_df[3][i])\n",
    "                min_window = input_df[0][i]\n",
    "            except KeyError:\n",
    "                break\n",
    "        \n",
    "#         label.append(input_df[5][1])\n",
    "        gy_columns = ['mean_gy_x', 'mean_gy_y', 'mean_gy_z', \n",
    "                       'std_gy_x', 'std_gy_y', 'std_gy_z', \n",
    "                       'mad_gy_x', 'mad_gy_y', 'mad_gy_z',\n",
    "                       'min_gy_x', 'min_gy_y', 'min_gy_z', \n",
    "                       'max_gy_x', 'max_gy_y', 'max_gy_z', \n",
    "                       'em_gy_x', 'em_gy_y', 'em_gy_z', \n",
    "                       'iqr_gy_x', 'iqr_gy_y', 'iqr_gy_z', \n",
    "                       'sma_gy_x', 'sma_gy_y', 'sma_gy_z', \n",
    "                       'label']\n",
    "        \n",
    "        l = (input_df[5][1], )\n",
    "        \n",
    "        gy_data = list(mean(x, y, z)+std_dev(x, y, z)+mad(x, y, z)+minimum(x, y, z)+maximum(x, y, z)+energy_measure(x, y, z)+inter_quartile_range(x, y, z)+sma(x, y, z)+l) \n",
    "        output_df = output_df.append(pd.Series(gy_data, index=gy_columns), ignore_index=True)\n",
    "        \n",
    "    return output_df"
   ]
  },
  {
   "cell_type": "code",
   "execution_count": 339,
   "metadata": {},
   "outputs": [],
   "source": [
    "def get_session_dirs(path):\n",
    "    path = path\n",
    "    dirs = []\n",
    "    dir_list = [x[0] for x in os.walk(path)]\n",
    "    last_dirs = [\"1_android.sensor.accelerometer.data.csv.gz\",\"4_android.sensor.gyroscope.data.csv.gz\"]\n",
    "    dirs = []\n",
    "    for each_dir in dir_list[2:]:\n",
    "\n",
    "        if \"data\" in each_dir:\n",
    "            dirs.append(each_dir)\n",
    "\n",
    "    dirs.sort(key=lambda x:x[-22:])\n",
    "    return dirs"
   ]
  },
  {
   "cell_type": "code",
   "execution_count": 347,
   "metadata": {
    "scrolled": true
   },
   "outputs": [
    {
     "name": "stdout",
     "output_type": "stream",
     "text": [
      "processing : Sessions/14442D57F7E1B88_Thu_Feb_08_00-16_2018_PST/data/1_android.sensor.accelerometer.data.csv.gz\n",
      "processing : Sessions/14442D57F7E1B88_Thu_Feb_08_00-16_2018_PST/data/4_android.sensor.gyroscope.data.csv.gz\n",
      "processing : Sessions/14442D57F7E1B88_Thu_Feb_08_00-18_2018_PST/data/1_android.sensor.accelerometer.data.csv.gz\n",
      "processing : Sessions/14442D57F7E1B88_Thu_Feb_08_00-18_2018_PST/data/4_android.sensor.gyroscope.data.csv.gz\n",
      "processing : Sessions/14442D57F7E1B88_Thu_Feb_08_00-25_2018_PST/data/1_android.sensor.accelerometer.data.csv.gz\n",
      "processing : Sessions/14442D57F7E1B88_Thu_Feb_08_00-25_2018_PST/data/4_android.sensor.gyroscope.data.csv.gz\n",
      "processing : Sessions/14442D57F7E1B88_Thu_Feb_08_00-31_2018_PST/data/1_android.sensor.accelerometer.data.csv.gz\n",
      "processing : Sessions/14442D57F7E1B88_Thu_Feb_08_00-31_2018_PST/data/4_android.sensor.gyroscope.data.csv.gz\n",
      "processing : Sessions/14442D57F7E1B88_Thu_Feb_08_00-35_2018_PST/data/1_android.sensor.accelerometer.data.csv.gz\n",
      "processing : Sessions/14442D57F7E1B88_Thu_Feb_08_00-35_2018_PST/data/4_android.sensor.gyroscope.data.csv.gz\n",
      "processing : Sessions/14442D57F7E1B88_Thu_Feb_08_00-38_2018_PST/data/1_android.sensor.accelerometer.data.csv.gz\n",
      "processing : Sessions/14442D57F7E1B88_Thu_Feb_08_00-38_2018_PST/data/4_android.sensor.gyroscope.data.csv.gz\n",
      "processing : Sessions/14442D57F7E1B88_Thu_Feb_08_00-39_2018_PST/data/1_android.sensor.accelerometer.data.csv.gz\n",
      "processing : Sessions/14442D57F7E1B88_Thu_Feb_08_00-39_2018_PST/data/4_android.sensor.gyroscope.data.csv.gz\n",
      "processing : Sessions/14442D57F7E1B88_Thu_Feb_08_07-43_2018_PST/data/1_android.sensor.accelerometer.data.csv.gz\n",
      "processing : Sessions/14442D57F7E1B88_Thu_Feb_08_07-43_2018_PST/data/4_android.sensor.gyroscope.data.csv.gz\n",
      "processing : Sessions/14442D57F7E1B88_Thu_Feb_08_07-54_2018_PST/data/1_android.sensor.accelerometer.data.csv.gz\n",
      "processing : Sessions/14442D57F7E1B88_Thu_Feb_08_07-54_2018_PST/data/4_android.sensor.gyroscope.data.csv.gz\n",
      "processing : Sessions/14442D57F7E1B88_Thu_Feb_08_08-13_2018_PST/data/1_android.sensor.accelerometer.data.csv.gz\n",
      "processing : Sessions/14442D57F7E1B88_Thu_Feb_08_08-13_2018_PST/data/4_android.sensor.gyroscope.data.csv.gz\n",
      "processing : Sessions/14442D57F7E1B88_Thu_Feb_08_14-46_2018_PST/data/1_android.sensor.accelerometer.data.csv.gz\n",
      "processing : Sessions/14442D57F7E1B88_Thu_Feb_08_14-46_2018_PST/data/4_android.sensor.gyroscope.data.csv.gz\n",
      "processing : Sessions/14442D57F7E1B88_Thu_Feb_08_19-19_2018_PST/data/1_android.sensor.accelerometer.data.csv.gz\n",
      "processing : Sessions/14442D57F7E1B88_Thu_Feb_08_19-19_2018_PST/data/4_android.sensor.gyroscope.data.csv.gz\n",
      "processing : Sessions/14442D57F7E1B88_Fri_Feb_09_09-37_2018_PST/data/1_android.sensor.accelerometer.data.csv.gz\n",
      "processing : Sessions/14442D57F7E1B88_Fri_Feb_09_09-37_2018_PST/data/4_android.sensor.gyroscope.data.csv.gz\n",
      "processing : Sessions/14442D57F7E1B88_Fri_Feb_09_09-41_2018_PST/data/1_android.sensor.accelerometer.data.csv.gz\n",
      "processing : Sessions/14442D57F7E1B88_Fri_Feb_09_09-41_2018_PST/data/4_android.sensor.gyroscope.data.csv.gz\n",
      "processing : Sessions/14442D57F7E1B88_Fri_Feb_09_09-47_2018_PST/data/1_android.sensor.accelerometer.data.csv.gz\n",
      "processing : Sessions/14442D57F7E1B88_Fri_Feb_09_09-47_2018_PST/data/4_android.sensor.gyroscope.data.csv.gz\n",
      "processing : Sessions/14442D57F7E1B88_Fri_Feb_09_09-54_2018_PST/data/1_android.sensor.accelerometer.data.csv.gz\n",
      "processing : Sessions/14442D57F7E1B88_Fri_Feb_09_09-54_2018_PST/data/4_android.sensor.gyroscope.data.csv.gz\n",
      "processing : Sessions/14442D57F7E1B88_Fri_Feb_09_11-54_2018_PST/data/1_android.sensor.accelerometer.data.csv.gz\n",
      "processing : Sessions/14442D57F7E1B88_Fri_Feb_09_11-54_2018_PST/data/4_android.sensor.gyroscope.data.csv.gz\n",
      "processing : Sessions/14442D57F7E1B88_Sun_Feb_11_18-31_2018_PST/data/1_android.sensor.accelerometer.data.csv.gz\n",
      "processing : Sessions/14442D57F7E1B88_Sun_Feb_11_18-31_2018_PST/data/4_android.sensor.gyroscope.data.csv.gz\n",
      "processing : Sessions/14442D57F7E1B88_Mon_Feb_12_01-46_2018_PST/data/1_android.sensor.accelerometer.data.csv.gz\n",
      "processing : Sessions/14442D57F7E1B88_Mon_Feb_12_01-46_2018_PST/data/4_android.sensor.gyroscope.data.csv.gz\n",
      "processing : Sessions/14442D57F7E1B88_Mon_Feb_12_22-04_2018_PST/data/1_android.sensor.accelerometer.data.csv.gz\n",
      "processing : Sessions/14442D57F7E1B88_Mon_Feb_12_22-04_2018_PST/data/4_android.sensor.gyroscope.data.csv.gz\n",
      "processing : Sessions/14442D57F7E1B88_Tue_Feb_13_00-40_2018_PST/data/1_android.sensor.accelerometer.data.csv.gz\n",
      "processing : Sessions/14442D57F7E1B88_Tue_Feb_13_00-40_2018_PST/data/4_android.sensor.gyroscope.data.csv.gz\n",
      "processing : Sessions/14442D57F7E1B88_Tue_Feb_13_17-53_2018_PST/data/1_android.sensor.accelerometer.data.csv.gz\n",
      "processing : Sessions/14442D57F7E1B88_Tue_Feb_13_17-53_2018_PST/data/4_android.sensor.gyroscope.data.csv.gz\n",
      "processing : Sessions/14442D57F7E1B88_Tue_Feb_13_18-01_2018_PST/data/1_android.sensor.accelerometer.data.csv.gz\n",
      "processing : Sessions/14442D57F7E1B88_Tue_Feb_13_18-01_2018_PST/data/4_android.sensor.gyroscope.data.csv.gz\n",
      "processing : Sessions/14442D57F7E1B88_Tue_Feb_13_18-09_2018_PST/data/1_android.sensor.accelerometer.data.csv.gz\n",
      "processing : Sessions/14442D57F7E1B88_Tue_Feb_13_18-09_2018_PST/data/4_android.sensor.gyroscope.data.csv.gz\n",
      "processing : Sessions/14442D57F7E1B88_Fri_Feb_16_14-11_2018_PST/data/1_android.sensor.accelerometer.data.csv.gz\n",
      "processing : Sessions/14442D57F7E1B88_Fri_Feb_16_14-11_2018_PST/data/4_android.sensor.gyroscope.data.csv.gz\n",
      "processing : Sessions/14442D57F7E1B88_Fri_Feb_16_14-21_2018_PST/data/1_android.sensor.accelerometer.data.csv.gz\n",
      "processing : Sessions/14442D57F7E1B88_Fri_Feb_16_14-21_2018_PST/data/4_android.sensor.gyroscope.data.csv.gz\n",
      "processing : Sessions/14442D57F7E1B88_Fri_Feb_16_14-33_2018_PST/data/1_android.sensor.accelerometer.data.csv.gz\n",
      "processing : Sessions/14442D57F7E1B88_Fri_Feb_16_14-33_2018_PST/data/4_android.sensor.gyroscope.data.csv.gz\n",
      "(16022, 49)\n"
     ]
    }
   ],
   "source": [
    "dirs = get_session_dirs(\"Sessions/\")\n",
    "\n",
    "acc_columns = ['mean_acc_x', 'mean_acc_y', 'mean_acc_z', \n",
    "               'std_acc_x', 'std_acc_y', 'std_acc_z', \n",
    "               'mad_acc_x', 'mad_acc_y', 'mad_acc_z',\n",
    "               'min_acc_x', 'min_acc_y', 'min_acc_z', \n",
    "               'max_acc_x', 'max_acc_y', 'max_acc_z', \n",
    "               'em_acc_x', 'em_acc_y', 'em_acc_z', \n",
    "               'iqr_acc_x', 'iqr_acc_y', 'iqr_acc_z', \n",
    "               'sma_acc_x', 'sma_acc_y', 'sma_acc_z']\n",
    "\n",
    "output_acc_df = pd.DataFrame(columns = acc_columns)\n",
    "\n",
    "gy_columns = ['mean_gy_x', 'mean_gy_y', 'mean_gy_z', \n",
    "                       'std_gy_x', 'std_gy_y', 'std_gy_z', \n",
    "                       'mad_gy_x', 'mad_gy_y', 'mad_gy_z',\n",
    "                       'min_gy_x', 'min_gy_y', 'min_gy_z', \n",
    "                       'max_gy_x', 'max_gy_y', 'max_gy_z', \n",
    "                       'em_gy_x', 'em_gy_y', 'em_gy_z', \n",
    "                       'iqr_gy_x', 'iqr_gy_y', 'iqr_gy_z', \n",
    "                       'sma_gy_x', 'sma_gy_y', 'sma_gy_z',\n",
    "                       'label']\n",
    "\n",
    "output_gy_df = pd.DataFrame(columns = gy_columns)\n",
    "\n",
    "acc_gy_df = pd.DataFrame()\n",
    "\n",
    "for i in dirs: \n",
    "    full_path_acc = os.path.normpath(i + \"/\" + \"1_android.sensor.accelerometer.data.csv.gz\")\n",
    "    full_path_gy = os.path.normpath(i + \"/\" + \"4_android.sensor.gyroscope.data.csv.gz\")\n",
    "    \n",
    "    print(\"processing : \" + full_path_acc)\n",
    "    in_df_ac = pd.read_csv(full_path_acc, compression='gzip', sep=',', header=None)\n",
    "    \n",
    "    print(\"processing : \" + full_path_gy)\n",
    "    in_df_gy = pd.read_csv(full_path_gy, compression='gzip', sep=',', header=None)\n",
    "\n",
    "    output_acc_df = process_avg_acceleration(in_df_ac, output_acc_df)\n",
    "    output_gy_df = process_avg_gyroscope(in_df_gy, output_gy_df)\n",
    "    \n",
    "    if output_gy_df.shape[0] < output_acc_df.shape[0]:\n",
    "        output_acc_df = output_acc_df[:output_gy_df.shape[0]]\n",
    "    \n",
    "    acc_gy_df = pd.concat([output_acc_df, output_gy_df], axis=1)\n",
    "    \n",
    "print(acc_gy_df.shape)\n"
   ]
  },
  {
   "cell_type": "code",
   "execution_count": 348,
   "metadata": {},
   "outputs": [
    {
     "data": {
      "text/html": [
       "<div>\n",
       "<style>\n",
       "    .dataframe thead tr:only-child th {\n",
       "        text-align: right;\n",
       "    }\n",
       "\n",
       "    .dataframe thead th {\n",
       "        text-align: left;\n",
       "    }\n",
       "\n",
       "    .dataframe tbody tr th {\n",
       "        vertical-align: top;\n",
       "    }\n",
       "</style>\n",
       "<table border=\"1\" class=\"dataframe\">\n",
       "  <thead>\n",
       "    <tr style=\"text-align: right;\">\n",
       "      <th></th>\n",
       "      <th>mean_acc_x</th>\n",
       "      <th>mean_acc_y</th>\n",
       "      <th>mean_acc_z</th>\n",
       "      <th>std_acc_x</th>\n",
       "      <th>std_acc_y</th>\n",
       "      <th>std_acc_z</th>\n",
       "      <th>mad_acc_x</th>\n",
       "      <th>mad_acc_y</th>\n",
       "      <th>mad_acc_z</th>\n",
       "      <th>min_acc_x</th>\n",
       "      <th>...</th>\n",
       "      <th>em_gy_x</th>\n",
       "      <th>em_gy_y</th>\n",
       "      <th>em_gy_z</th>\n",
       "      <th>iqr_gy_x</th>\n",
       "      <th>iqr_gy_y</th>\n",
       "      <th>iqr_gy_z</th>\n",
       "      <th>sma_gy_x</th>\n",
       "      <th>sma_gy_y</th>\n",
       "      <th>sma_gy_z</th>\n",
       "      <th>label</th>\n",
       "    </tr>\n",
       "  </thead>\n",
       "  <tbody>\n",
       "    <tr>\n",
       "      <th>7521</th>\n",
       "      <td>1.740143</td>\n",
       "      <td>8.086100</td>\n",
       "      <td>-5.306657</td>\n",
       "      <td>0.062205</td>\n",
       "      <td>0.052877</td>\n",
       "      <td>0.098737</td>\n",
       "      <td>0.047873</td>\n",
       "      <td>0.038298</td>\n",
       "      <td>0.057448</td>\n",
       "      <td>1.594164</td>\n",
       "      <td>...</td>\n",
       "      <td>0.000630</td>\n",
       "      <td>0.000046</td>\n",
       "      <td>0.000082</td>\n",
       "      <td>0.023970</td>\n",
       "      <td>0.005327</td>\n",
       "      <td>0.010653</td>\n",
       "      <td>0.017726</td>\n",
       "      <td>0.004429</td>\n",
       "      <td>0.006055</td>\n",
       "      <td>laying_down</td>\n",
       "    </tr>\n",
       "    <tr>\n",
       "      <th>529</th>\n",
       "      <td>-9.600760</td>\n",
       "      <td>-2.658050</td>\n",
       "      <td>1.392206</td>\n",
       "      <td>2.163885</td>\n",
       "      <td>1.303792</td>\n",
       "      <td>1.310334</td>\n",
       "      <td>1.665974</td>\n",
       "      <td>1.091500</td>\n",
       "      <td>0.698943</td>\n",
       "      <td>-14.548545</td>\n",
       "      <td>...</td>\n",
       "      <td>0.945236</td>\n",
       "      <td>0.750510</td>\n",
       "      <td>2.137364</td>\n",
       "      <td>1.438887</td>\n",
       "      <td>1.596026</td>\n",
       "      <td>2.813853</td>\n",
       "      <td>0.825823</td>\n",
       "      <td>0.750627</td>\n",
       "      <td>1.341247</td>\n",
       "      <td>walking</td>\n",
       "    </tr>\n",
       "    <tr>\n",
       "      <th>9803</th>\n",
       "      <td>4.156679</td>\n",
       "      <td>-8.333373</td>\n",
       "      <td>3.738062</td>\n",
       "      <td>0.066920</td>\n",
       "      <td>0.160455</td>\n",
       "      <td>0.112797</td>\n",
       "      <td>0.047873</td>\n",
       "      <td>0.134044</td>\n",
       "      <td>0.086171</td>\n",
       "      <td>3.987804</td>\n",
       "      <td>...</td>\n",
       "      <td>0.002400</td>\n",
       "      <td>0.000128</td>\n",
       "      <td>0.000272</td>\n",
       "      <td>0.063921</td>\n",
       "      <td>0.015980</td>\n",
       "      <td>0.026634</td>\n",
       "      <td>0.038368</td>\n",
       "      <td>0.008792</td>\n",
       "      <td>0.013392</td>\n",
       "      <td>sitting</td>\n",
       "    </tr>\n",
       "    <tr>\n",
       "      <th>12113</th>\n",
       "      <td>3.611503</td>\n",
       "      <td>-7.140243</td>\n",
       "      <td>4.630640</td>\n",
       "      <td>1.484362</td>\n",
       "      <td>2.848403</td>\n",
       "      <td>2.077562</td>\n",
       "      <td>0.201066</td>\n",
       "      <td>1.014903</td>\n",
       "      <td>1.359588</td>\n",
       "      <td>1.986721</td>\n",
       "      <td>...</td>\n",
       "      <td>0.846008</td>\n",
       "      <td>0.803491</td>\n",
       "      <td>0.960294</td>\n",
       "      <td>1.126607</td>\n",
       "      <td>0.409494</td>\n",
       "      <td>0.212404</td>\n",
       "      <td>0.695187</td>\n",
       "      <td>0.522282</td>\n",
       "      <td>0.447819</td>\n",
       "      <td>sitting</td>\n",
       "    </tr>\n",
       "    <tr>\n",
       "      <th>11651</th>\n",
       "      <td>-8.663305</td>\n",
       "      <td>-3.891155</td>\n",
       "      <td>-0.575098</td>\n",
       "      <td>0.636207</td>\n",
       "      <td>0.659318</td>\n",
       "      <td>1.292362</td>\n",
       "      <td>0.277663</td>\n",
       "      <td>0.268088</td>\n",
       "      <td>0.349471</td>\n",
       "      <td>-11.350641</td>\n",
       "      <td>...</td>\n",
       "      <td>0.822735</td>\n",
       "      <td>0.163191</td>\n",
       "      <td>0.313720</td>\n",
       "      <td>1.243795</td>\n",
       "      <td>0.482070</td>\n",
       "      <td>0.527348</td>\n",
       "      <td>0.759617</td>\n",
       "      <td>0.288386</td>\n",
       "      <td>0.397516</td>\n",
       "      <td>standing</td>\n",
       "    </tr>\n",
       "  </tbody>\n",
       "</table>\n",
       "<p>5 rows × 49 columns</p>\n",
       "</div>"
      ],
      "text/plain": [
       "       mean_acc_x  mean_acc_y  mean_acc_z  std_acc_x  std_acc_y  std_acc_z  \\\n",
       "7521     1.740143    8.086100   -5.306657   0.062205   0.052877   0.098737   \n",
       "529     -9.600760   -2.658050    1.392206   2.163885   1.303792   1.310334   \n",
       "9803     4.156679   -8.333373    3.738062   0.066920   0.160455   0.112797   \n",
       "12113    3.611503   -7.140243    4.630640   1.484362   2.848403   2.077562   \n",
       "11651   -8.663305   -3.891155   -0.575098   0.636207   0.659318   1.292362   \n",
       "\n",
       "       mad_acc_x  mad_acc_y  mad_acc_z  min_acc_x     ...        em_gy_x  \\\n",
       "7521    0.047873   0.038298   0.057448   1.594164     ...       0.000630   \n",
       "529     1.665974   1.091500   0.698943 -14.548545     ...       0.945236   \n",
       "9803    0.047873   0.134044   0.086171   3.987804     ...       0.002400   \n",
       "12113   0.201066   1.014903   1.359588   1.986721     ...       0.846008   \n",
       "11651   0.277663   0.268088   0.349471 -11.350641     ...       0.822735   \n",
       "\n",
       "        em_gy_y   em_gy_z  iqr_gy_x  iqr_gy_y  iqr_gy_z  sma_gy_x  sma_gy_y  \\\n",
       "7521   0.000046  0.000082  0.023970  0.005327  0.010653  0.017726  0.004429   \n",
       "529    0.750510  2.137364  1.438887  1.596026  2.813853  0.825823  0.750627   \n",
       "9803   0.000128  0.000272  0.063921  0.015980  0.026634  0.038368  0.008792   \n",
       "12113  0.803491  0.960294  1.126607  0.409494  0.212404  0.695187  0.522282   \n",
       "11651  0.163191  0.313720  1.243795  0.482070  0.527348  0.759617  0.288386   \n",
       "\n",
       "       sma_gy_z        label  \n",
       "7521   0.006055  laying_down  \n",
       "529    1.341247      walking  \n",
       "9803   0.013392      sitting  \n",
       "12113  0.447819      sitting  \n",
       "11651  0.397516     standing  \n",
       "\n",
       "[5 rows x 49 columns]"
      ]
     },
     "execution_count": 348,
     "metadata": {},
     "output_type": "execute_result"
    }
   ],
   "source": [
    "combined_df = acc_gy_df\n",
    "combined_df = combined_df.iloc[np.random.permutation(len(combined_df))]\n",
    "combined_df.head()"
   ]
  },
  {
   "cell_type": "code",
   "execution_count": 362,
   "metadata": {},
   "outputs": [
    {
     "name": "stdout",
     "output_type": "stream",
     "text": [
      "16022 48\n",
      "16022\n"
     ]
    }
   ],
   "source": [
    "data = combined_df[acc_columns + gy_columns].as_matrix()\n",
    "targets = data[:, -1]\n",
    "data = data[:, :-1]\n",
    "print(len(data), len(data[0]))\n",
    "print(len(targets))"
   ]
  },
  {
   "cell_type": "code",
   "execution_count": 365,
   "metadata": {},
   "outputs": [
    {
     "name": "stdout",
     "output_type": "stream",
     "text": [
      "['laying_down' 'walking' 'sitting' ..., 'laying_down' 'laying_down'\n",
      " 'laying_down']\n",
      "(16022,)\n"
     ]
    }
   ],
   "source": [
    "cache = {'laying_down' : 0, 'sitting' : 1, 'walking' : 2, 'standing' : 3}\n",
    "targets.reshape(len(targets))\n",
    "print(targets)\n",
    "print(targets.shape)"
   ]
  },
  {
   "cell_type": "code",
   "execution_count": 371,
   "metadata": {},
   "outputs": [
    {
     "name": "stdout",
     "output_type": "stream",
     "text": [
      "16022\n"
     ]
    }
   ],
   "source": [
    "bin_targets = []\n",
    "for i in targets:\n",
    "    bin_targets.append(cache[i])\n",
    "print(len(bin_targets))"
   ]
  },
  {
   "cell_type": "code",
   "execution_count": 374,
   "metadata": {},
   "outputs": [
    {
     "data": {
      "text/plain": [
       "[0, 2, 1, 1, 3]"
      ]
     },
     "execution_count": 374,
     "metadata": {},
     "output_type": "execute_result"
    }
   ],
   "source": [
    "bin_targets[: 5]"
   ]
  },
  {
   "cell_type": "code",
   "execution_count": 375,
   "metadata": {
    "collapsed": true
   },
   "outputs": [],
   "source": [
    "clf = DecisionTreeClassifier(random_state=0)"
   ]
  },
  {
   "cell_type": "code",
   "execution_count": 376,
   "metadata": {},
   "outputs": [
    {
     "data": {
      "text/plain": [
       "array([ 0.92955112,  0.91328759,  0.93075483,  0.93761697,  0.92326887,\n",
       "        0.93695381,  0.92509363,  0.92259675,  0.90875   ,  0.920625  ])"
      ]
     },
     "execution_count": 376,
     "metadata": {},
     "output_type": "execute_result"
    }
   ],
   "source": [
    "acc = cross_val_score(clf, data, bin_targets, cv=10)\n",
    "acc"
   ]
  },
  {
   "cell_type": "code",
   "execution_count": 377,
   "metadata": {},
   "outputs": [
    {
     "data": {
      "text/plain": [
       "0.92484985764644789"
      ]
     },
     "execution_count": 377,
     "metadata": {},
     "output_type": "execute_result"
    }
   ],
   "source": [
    "np.mean(acc)"
   ]
  },
  {
   "cell_type": "code",
   "execution_count": 378,
   "metadata": {},
   "outputs": [
    {
     "data": {
      "text/plain": [
       "{'sitting': Int64Index([18, 12,  1, 33, 40,  7,  4, 32, 37, 39, 13,  8, 10, 26,  5, 28,  0,\n",
       "             14,  9, 22, 15, 19, 30, 17, 41, 23, 24,  6, 29, 21, 25, 34, 20, 31,\n",
       "             35, 11, 36, 42, 27,  3, 38, 16,  2],\n",
       "            dtype='int64'),\n",
       " 'walking': Int64Index([264, 174, 277, 108, 258, 104, 206, 241, 170, 107,\n",
       "             ...\n",
       "             219, 230, 190,  60, 315, 194, 121, 231, 259, 216],\n",
       "            dtype='int64', length=282)}"
      ]
     },
     "execution_count": 378,
     "metadata": {},
     "output_type": "execute_result"
    }
   ],
   "source": [
    "avg_acc_gy.groupby(by='label').groups"
   ]
  },
  {
   "cell_type": "code",
   "execution_count": null,
   "metadata": {
    "collapsed": true
   },
   "outputs": [],
   "source": []
  }
 ],
 "metadata": {
  "kernelspec": {
   "display_name": "Python 3",
   "language": "python",
   "name": "python3"
  },
  "language_info": {
   "codemirror_mode": {
    "name": "ipython",
    "version": 3
   },
   "file_extension": ".py",
   "mimetype": "text/x-python",
   "name": "python",
   "nbconvert_exporter": "python",
   "pygments_lexer": "ipython3",
   "version": "3.6.3"
  }
 },
 "nbformat": 4,
 "nbformat_minor": 2
}
