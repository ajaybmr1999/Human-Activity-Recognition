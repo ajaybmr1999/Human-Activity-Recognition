{
 "cells": [
  {
   "cell_type": "code",
   "execution_count": 1,
   "metadata": {},
   "outputs": [],
   "source": [
    "import pandas as pd\n",
    "import numpy as np\n",
    "import os\n",
    "from sklearn.tree import DecisionTreeClassifier\n",
    "from sklearn import preprocessing\n",
    "from sklearn.model_selection import cross_val_score\n",
    "import math\n",
    "from scipy.stats import iqr\n",
    "from numpy import linalg\n",
    "import matplotlib.pyplot as plt\n",
    "from sklearn.metrics import accuracy_score\n",
    "from scipy import stats\n",
    "import time\n",
    "from tqdm import tqdm"
   ]
  },
  {
   "cell_type": "code",
   "execution_count": 2,
   "metadata": {
    "collapsed": true
   },
   "outputs": [],
   "source": [
    "## Features\n",
    "\n",
    "def mean(x, y, z):\n",
    "    \"\"\"Calculates mean\"\"\"\n",
    "    mean_x = np.mean(x)\n",
    "    mean_y = np.mean(y)\n",
    "    mean_z = np.mean(z)\n",
    "    return mean_x, mean_y, mean_z\n",
    "\n",
    "def std_dev(x, y, z):\n",
    "    \"\"\"Calculates standard deviation\"\"\"\n",
    "    std_x = np.std(x)\n",
    "    std_y = np.std(y)\n",
    "    std_z = np.std(z)\n",
    "    return std_x, std_y, std_z  \n",
    "    \n",
    "def mad(x, y, z):\n",
    "    \"\"\"Calculates median absolute deviation\"\"\"\n",
    "    mad_x = np.median(np.abs(x - np.median(x)))\n",
    "    mad_y = np.median(np.abs(y - np.median(y)))\n",
    "    mad_z = np.median(np.abs(z - np.median(z)))\n",
    "    return mad_x, mad_y, mad_z\n",
    "\n",
    "def minimum(x, y, z):\n",
    "    \"\"\"Calculates minimum\"\"\"\n",
    "    return min(x), min(y), min(z)\n",
    "\n",
    "def maximum(x, y, z):\n",
    "    \"\"\"Calculates maximum\"\"\"\n",
    "    return max(x), max(y), max(z)\n",
    "\n",
    "def energy_measure(x, y, z):\n",
    "    \"\"\"Calculates energy measures\"\"\"\n",
    "    em_x = np.mean(np.square(x))\n",
    "    em_y = np.mean(np.square(y))\n",
    "    em_z = np.mean(np.square(z))\n",
    "    return em_x, em_y, em_z\n",
    "\n",
    "def inter_quartile_range(x, y, z):\n",
    "    \"\"\"Calculates inter-quartile range\"\"\"\n",
    "    iqr_x = np.subtract(*np.percentile(x, [75, 25]))\n",
    "    iqr_y = np.subtract(*np.percentile(y, [75, 25]))\n",
    "    iqr_z = np.subtract(*np.percentile(z, [75, 25]))\n",
    "    return iqr_x, iqr_y, iqr_z\n",
    "\n",
    "def sma(x, y, z):\n",
    "    \"\"\"Calculates signal magnitude area\"\"\"   \n",
    "    abs_x = np.absolute(x)\n",
    "    abs_y = np.absolute(y)\n",
    "    abs_z = np.absolute(z)\n",
    "    return np.mean(abs_x+abs_y+abs_z)\n",
    "\n",
    "def skewness(x, y, z):\n",
    "    \"\"\"Calculates skewness\"\"\"\n",
    "    skew_x=stats.skew(x)\n",
    "    skew_y=stats.skew(y)\n",
    "    skew_z=stats.skew(z)\n",
    "    return skew_x, skew_y, skew_z\n",
    "\n",
    "def kurt(x, y, z):\n",
    "    \"\"\"Calculates kurtosis\"\"\"\n",
    "    kurt_x = stats.kurtosis(x,fisher=False)\n",
    "    kurt_y = stats.kurtosis(y,fisher=False)\n",
    "    kurt_z = stats.kurtosis(z,fisher=False)\n",
    "    return kurt_x, kurt_y, kurt_z\n",
    "    \n",
    "def max_index(x, y, z):\n",
    "    \"\"\"Calculates index of maximum\"\"\"\n",
    "    idx_x = np.argmax(x)\n",
    "    idx_y = np.argmax(y)\n",
    "    idx_z = np.argmax(z)\n",
    "    return idx_x, idx_y, idx_z\n",
    "\n",
    "def butter_bandpass(lowcut, highcut, fs, order=5):\n",
    "    nyq = 0.5 * fs\n",
    "    low = lowcut / nyq\n",
    "    high = highcut / nyq\n",
    "    b, a = butter(order, [low, high], btype='band')\n",
    "    return b, a\n",
    "\n",
    "\n",
    "def butter_bandpass_filter(data, lowcut, highcut, fs, order=5):\n",
    "    b, a = butter_bandpass(lowcut, highcut, fs, order=order)\n",
    "    y = lfilter(b, a, data)\n",
    "    return y\n",
    "\n"
   ]
  },
  {
   "cell_type": "code",
   "execution_count": 3,
   "metadata": {
    "collapsed": true
   },
   "outputs": [],
   "source": [
    "def process_acc(input_df, columns, output_df, freq_flag):\n",
    "    i = 0\n",
    "    while i < len(input_df[0]):\n",
    "        max_window = input_df[0][i] + 10000\n",
    "        min_window = input_df[0][i]\n",
    "        if i != 0:                                  #handling overlap\n",
    "            min_window -= 5000\n",
    "            max_window -= 5000\n",
    "            i -= int(count/2)\n",
    "        x = [input_df[1][i]]\n",
    "        y = [input_df[2][i]]\n",
    "        z = [input_df[3][i]]\n",
    "        \n",
    "        count = 0\n",
    "        while min_window < max_window:\n",
    "            i += 1\n",
    "            count += 1\n",
    "            try:\n",
    "                label = input_df[5][i]\n",
    "                if label=='null' or label is None:\n",
    "                    continue\n",
    "                x.append(input_df[1][i])\n",
    "                y.append(input_df[2][i])\n",
    "                z.append(input_df[3][i])\n",
    "                min_window = input_df[0][i]\n",
    "            except KeyError:\n",
    "                break\n",
    "\n",
    "        sma_val = (sma(x,y,z), )\n",
    "        \n",
    "        if freq_flag == 0:\n",
    "            acc_data = list(mean(x, y, z)+std_dev(x, y, z)+mad(x, y, z)+minimum(x, y, z)+maximum(x, y, z)+energy_measure(x, y, z)+inter_quartile_range(x, y, z)+sma_val)\n",
    "        \n",
    "        \n",
    "        else:\n",
    "            acc_data = list(mean(x, y, z)+std_dev(x, y, z)+mad(x, y, z)+minimum(x, y, z)+maximum(x, y, z)+energy_measure(x, y, z)+inter_quartile_range(x, y, z)+sma_val+\n",
    "                            skewness(x, y, z)+kurt(x, y, z)+max_index(x, y, z))\n",
    "        \n",
    "        \n",
    "       # acc_data = list(mean(x, y, z)+std_dev(x, y, z)+mad(x, y, z)+minimum(x, y, z)+maximum(x, y, z)+energy_measure(x, y, z)+inter_quartile_range(x, y, z)+sma_val)\n",
    "        output_df = output_df.append(pd.Series(acc_data, index=columns), ignore_index=True)\n",
    "\n",
    "    return output_df"
   ]
  },
  {
   "cell_type": "code",
   "execution_count": 4,
   "metadata": {
    "collapsed": true
   },
   "outputs": [],
   "source": [
    "def process_gyr(input_df, columns, output_df, freq_flag):\n",
    "\n",
    "    i = 0\n",
    "    while i < len(input_df[0]):\n",
    "        max_window = input_df[0][i] + 10000\n",
    "        min_window = input_df[0][i]\n",
    "        if i != 0:                                                                 #handling overlap\n",
    "            min_window -= 5000\n",
    "            max_window -= 5000\n",
    "            i -= int(count/2)\n",
    "        x = [input_df[1][i]]\n",
    "        y = [input_df[2][i]]\n",
    "        z = [input_df[3][i]]\n",
    "        l = input_df[5][i]\n",
    "        \n",
    "        count = 0\n",
    "        while min_window < max_window:\n",
    "            i += 1\n",
    "            count += 1\n",
    "            try:\n",
    "                label = input_df[5][i]\n",
    "                if label=='null' or label is None:\n",
    "                    continue\n",
    "                x.append(input_df[1][i])\n",
    "                y.append(input_df[2][i])\n",
    "                z.append(input_df[3][i])\n",
    "                min_window = input_df[0][i]\n",
    "            except KeyError:\n",
    "                break\n",
    "        \n",
    "        l = (l, )  \n",
    "        sma_val = (sma(x,y,z), )\n",
    "        \n",
    "        if freq_flag == 0:\n",
    "            gy_data = list(mean(x, y, z)+std_dev(x, y, z)+mad(x, y, z)+minimum(x, y, z)+maximum(x, y, z)+energy_measure(x, y, z)+inter_quartile_range(x, y, z)+sma_val+l)\n",
    "        \n",
    "        \n",
    "        else:\n",
    "            gy_data = list(mean(x, y, z)+std_dev(x, y, z)+mad(x, y, z)+minimum(x, y, z)+maximum(x, y, z)+energy_measure(x, y, z)+inter_quartile_range(x, y, z)+sma_val+\n",
    "                            skewness(x, y, z)+kurt(x, y, z)+max_index(x, y, z)+l)\n",
    "        \n",
    "        #gy_data = list(mean(x, y, z)+std_dev(x, y, z)+mad(x, y, z)+minimum(x, y, z)+maximum(x, y, z)+energy_measure(x, y, z)+inter_quartile_range(x, y, z)+sma_val+label) \n",
    "        output_df = output_df.append(pd.Series(gy_data, index=columns), ignore_index=True)\n",
    "        \n",
    "    return output_df"
   ]
  },
  {
   "cell_type": "code",
   "execution_count": 5,
   "metadata": {
    "collapsed": true
   },
   "outputs": [],
   "source": [
    "def process_mag(input_df, columns, output_df, freq_flag):\n",
    "    mag = np.linalg.norm(input_df.iloc[:,1:4], axis = 1)\n",
    "    input_df[6] = mag.tolist()\n",
    "    \n",
    "    i = 0\n",
    "    while i < len(input_df[0]):\n",
    "        max_window = input_df[0][i] + 10000\n",
    "        min_window = input_df[0][i]\n",
    "        if i != 0:                                  #handling overlap\n",
    "            min_window -= 5000\n",
    "            max_window -= 5000\n",
    "            i -= int(count/2)\n",
    "        x = [input_df[6][i]]\n",
    "        \n",
    "        \n",
    "        count = 0\n",
    "        while min_window < max_window:\n",
    "            i += 1\n",
    "            count += 1\n",
    "            try:\n",
    "                label = input_df[5][i]\n",
    "                if label=='null' or label is None:\n",
    "                    continue\n",
    "                x.append(input_df[6][i])\n",
    "                min_window = input_df[0][i]\n",
    "            except KeyError:\n",
    "                break\n",
    "                \n",
    "        label = (input_df[5][1], )\n",
    "        if label == 'null':\n",
    "            print('--------null')\n",
    "            return\n",
    "        \n",
    "        mean = (np.mean(x),)\n",
    "        std_dev = (np.std(x),)\n",
    "        mad = (np.median(np.abs(x - np.median(x))),)\n",
    "        minimum = (np.min(x),)\n",
    "        maximum = (np.max(x),)\n",
    "        energy_measure = (np.mean(np.square(x)),)\n",
    "        inter_quartile_range = (np.subtract(*np.percentile(x, [75, 25])),)\n",
    "        sma_val = (np.mean(np.absolute(x)),)\n",
    "        \n",
    "        if freq_flag == 0:\n",
    "            acc_data = list(mean+std_dev+mad+minimum+maximum+energy_measure+inter_quartile_range+sma_val)\n",
    "        else:\n",
    "            skew = (stats.skew(x),)\n",
    "            kur = (stats.kurtosis(x,fisher=False),)\n",
    "            m_idx = (np.argmax(x),)\n",
    "            acc_data = list(mean+std_dev+mad+minimum+maximum+energy_measure+inter_quartile_range+sma_val+skew+kur+m_idx)\n",
    "        \n",
    "        #acc_data = list(mean+std_dev+mad+minimum+maximum+energy_measure+inter_quartile_range+sma_val)\n",
    "        output_df = output_df.append(pd.Series(acc_data, index=columns), ignore_index=True)\n",
    "\n",
    "    return output_df"
   ]
  },
  {
   "cell_type": "code",
   "execution_count": 6,
   "metadata": {
    "collapsed": true
   },
   "outputs": [],
   "source": [
    "def hist_activities(df):\n",
    "    df['label'].value_counts().plot(kind='bar', title='Training examples by activity type')\n",
    "    plt.show()\n",
    "    \n",
    "def plot_activity(activity, df):\n",
    "    data = df[df.iloc[:, 5] == activity][[1, 2, 3]][:2000]\n",
    "    axis = data.plot(subplots=True, figsize=(16, 12), \n",
    "                     title=activity)\n",
    "    for ax in axis:\n",
    "        ax.legend(loc='lower left', bbox_to_anchor=(1.0, 0.5))\n",
    "        \n",
    "def plot_act_signals(df):\n",
    "    plot_activity(\"sitting\", df)\n",
    "    plt.ylabel('sitting')\n",
    "    plt.show()\n",
    "    plot_activity(\"walking\", df)\n",
    "    plt.ylabel('walking')\n",
    "    plt.show()\n",
    "    plot_activity(\"standing\", df)\n",
    "    plt.ylabel('standing')\n",
    "    plt.show()\n",
    "    plot_activity(\"laying_down\", df)\n",
    "    plt.ylabel('laying_down')\n",
    "    plt.show()"
   ]
  },
  {
   "cell_type": "code",
   "execution_count": 7,
   "metadata": {
    "collapsed": true
   },
   "outputs": [],
   "source": [
    "def calc_jerk(acc, ts):\n",
    "    jk = [0]* len(acc)\n",
    "    for i in range(1,len(acc)):\n",
    "        jk[i-1] = 1000*(acc[i] - acc[i-1])/(ts[i] - ts[i-1])\n",
    "    return jk\n",
    "\n",
    "def fmagnitude(num):\n",
    "    return math.sqrt(num.real**2 + num.imag**2)"
   ]
  },
  {
   "cell_type": "code",
   "execution_count": 8,
   "metadata": {
    "collapsed": true
   },
   "outputs": [],
   "source": [
    "def get_session_dirs(path):\n",
    "    path = path\n",
    "    dirs = []\n",
    "    dir_list = [x[0] for x in os.walk(path)]\n",
    "    last_dirs = [\"1_android.sensor.accelerometer.data.csv.gz\",\"4_android.sensor.gyroscope.data.csv.gz\"]\n",
    "    dirs = []\n",
    "    for each_dir in dir_list[2:]:\n",
    "\n",
    "        if \"data\" in each_dir:\n",
    "            dirs.append(each_dir)\n",
    "\n",
    "    dirs.sort(key=lambda x:x[-22:])\n",
    "    return dirs"
   ]
  },
  {
   "cell_type": "code",
   "execution_count": 9,
   "metadata": {
    "collapsed": true
   },
   "outputs": [],
   "source": [
    "def get_jerk(df):\n",
    "    df[1] = calc_jerk(df[1],df[0])\n",
    "    df[2] = calc_jerk(df[2],df[0])\n",
    "    df[3] = calc_jerk(df[3],df[0])\n",
    "    return df\n",
    "\n",
    "def get_fft(df):\n",
    "    df[1] = np.fft.fft(df[1])\n",
    "    df[2] = np.fft.fft(df[2])\n",
    "    df[3] = np.fft.fft(df[3])\n",
    "    df[1] = [fmagnitude(j) for j in df[1]]\n",
    "    df[2] = [fmagnitude(j) for j in df[2]]\n",
    "    df[3] = [fmagnitude(j) for j in df[3]]\n",
    "    return df\n",
    "\n",
    "def five_point_smoothing(df):\n",
    "    m=np.array(df[1])\n",
    "    m_smooth = np.zeros(len(m))\n",
    "    m_smooth = m;\n",
    "    for i ,val in enumerate(m_smooth[2 : (len(m_smooth) -2)]):\n",
    "        m_smooth[i] = (m_smooth[i-2] + m_smooth[i-1] + m_smooth[i] + m_smooth[i+1] + m_smooth[i+2])/5\n",
    "    df[1] = m_smooth\n",
    "        \n",
    "    m=np.array(df[2])\n",
    "    m_smooth = np.zeros(len(m))\n",
    "    m_smooth = m;\n",
    "    for i ,val in enumerate(m_smooth[2 : (len(m_smooth) -2)]):\n",
    "        m_smooth[i] = (m_smooth[i-2] + m_smooth[i-1] + m_smooth[i] + m_smooth[i+1] + m_smooth[i+2])/5\n",
    "    df[2] = m_smooth\n",
    "    \n",
    "    m = np.array(df[3])\n",
    "    m_smooth = np.zeros(len(m))\n",
    "    m_smooth = m;\n",
    "    for i ,val in enumerate(m_smooth[2 : (len(m_smooth) -2)]):\n",
    "        m_smooth[i] = (m_smooth[i-2] + m_smooth[i-1] + m_smooth[i] + m_smooth[i+1] + m_smooth[i+2])/5\n",
    "    df[3] = m_smooth\n",
    "    \n",
    "    return df"
   ]
  },
  {
   "cell_type": "code",
   "execution_count": 10,
   "metadata": {
    "collapsed": true
   },
   "outputs": [],
   "source": [
    "tacc_cols = ['mean_acc_x', 'mean_acc_y', 'mean_acc_z', \n",
    "               'std_acc_x', 'std_acc_y', 'std_acc_z', \n",
    "               'mad_acc_x', 'mad_acc_y', 'mad_acc_z',\n",
    "               'min_acc_x', 'min_acc_y', 'min_acc_z', \n",
    "               'max_acc_x', 'max_acc_y', 'max_acc_z', \n",
    "               'em_acc_x', 'em_acc_y', 'em_acc_z', \n",
    "               'iqr_acc_x', 'iqr_acc_y', 'iqr_acc_z', \n",
    "               'sma_acc']\n",
    "\n",
    "tacc_jerk_cols = ['mean_accj_x', 'mean_accj_y', 'mean_accj_z', \n",
    "                   'std_accj_x', 'std_accj_y', 'std_accj_z', \n",
    "                   'mad_accj_x', 'mad_accj_y', 'mad_accj_z',\n",
    "                   'min_accj_x', 'min_accj_y', 'min_accj_z', \n",
    "                   'max_accj_x', 'max_accj_y', 'max_accj_z', \n",
    "                   'em_accj_x', 'em_accj_y', 'em_accj_z', \n",
    "                   'iqr_accj_x', 'iqr_accj_y', 'iqr_accj_z', \n",
    "                   'sma_accj']\n",
    "\n",
    "tacc_mag_cols = ['mean_macc', 'std_macc', 'mad_macc', 'min_macc', 'max_macc', 'em_macc', 'iqr_macc', 'sma_macc']\n",
    "\n",
    "tacc_jmag_cols = ['mean_macc_jerk', 'std_macc_jerk', 'mad_macc_jerk', 'min_macc_jerk', 'max_macc_jerk', \n",
    "                     'em_macc_jerk', 'iqr_macc_jerk', 'sma_macc_jerk']\n",
    "\n",
    "facc_cols = ['mean_facc_x', 'mean_facc_y', 'mean_facc_z', \n",
    "               'std_facc_x', 'std_facc_y', 'std_facc_z', \n",
    "               'mad_facc_x', 'mad_facc_y', 'mad_facc_z',\n",
    "               'min_facc_x', 'min_facc_y', 'min_facc_z', \n",
    "               'max_facc_x', 'max_facc_y', 'max_facc_z', \n",
    "               'em_facc_x', 'em_facc_y', 'em_facc_z', \n",
    "               'iqr_facc_x', 'iqr_facc_y', 'iqr_facc_z', \n",
    "               'sma_facc',\n",
    "               'skew_facc_x', 'skew_facc_y', 'skew_facc_z', \n",
    "               'kurt_facc_x', 'kurt_facc_y', 'kurt_facc_z', \n",
    "               'idx_facc_x', 'idx_facc_y', 'idx_facc_z']\n",
    "\n",
    "facc_jerk_cols = ['mean_faccj_x', 'mean_faccj_y', 'mean_faccj_z', \n",
    "                   'std_faccj_x', 'std_faccj_y', 'std_faccj_z', \n",
    "                   'mad_faccj_x', 'mad_faccj_y', 'mad_faccj_z',\n",
    "                   'min_faccj_x', 'min_faccj_y', 'min_faccj_z', \n",
    "                   'max_faccj_x', 'max_faccj_y', 'max_faccj_z', \n",
    "                   'em_faccj_x', 'em_faccj_y', 'em_faccj_z', \n",
    "                   'iqr_faccj_x', 'iqr_faccj_y', 'iqr_faccj_z', \n",
    "                   'sma_faccj',\n",
    "                   'skew_faccj_x', 'skew_faccj_y', 'skew_faccj_z', \n",
    "                   'kurt_faccj_x', 'kurt_faccj_y', 'kurt_faccj_z', \n",
    "                   'idx_faccj_x', 'idx_faccj_y', 'idx_faccj_z']\n",
    "\n",
    "facc_mag_cols = ['mean_mfacc', 'std_mfacc', 'mad_mfacc', 'min_mfacc', 'max_mfacc', 'em_mfacc', 'iqr_mfacc', 'sma_mfacc',\n",
    "                'skew_mfacc', 'kurt_mfacc',  'idx_mfacc']\n",
    "\n",
    "facc_jmag_cols = ['mean_mfacc_jerk', 'std_mfacc_jerk', 'mad_mfacc_jerk', 'min_mfacc_jerk', 'max_mfacc_jerk', \n",
    "                     'em_mfacc_jerk', 'iqr_mfacc_jerk', 'sma_mfacc_jerk', 'skew_mfacc_jerk', 'kurt_mfacc_jerk',  \n",
    "                  'idx_mfacc_jerk']\n",
    "\n",
    "tgy_cols = ['mean_gy_x', 'mean_gy_y', 'mean_gy_z', \n",
    "               'std_gy_x', 'std_gy_y', 'std_gy_z', \n",
    "               'mad_gy_x', 'mad_gy_y', 'mad_gy_z',\n",
    "               'min_gy_x', 'min_gy_y', 'min_gy_z', \n",
    "               'max_gy_x', 'max_gy_y', 'max_gy_z', \n",
    "               'em_gy_x', 'em_gy_y', 'em_gy_z', \n",
    "               'iqr_gy_x', 'iqr_gy_y', 'iqr_gy_z', \n",
    "               'sma_gy', 'label']\n",
    "\n",
    "tgy_jerk_cols = ['mean_gyj_x', 'mean_gyj_y', 'mean_gyj_z', \n",
    "                   'std_gyj_x', 'std_gyj_y', 'std_gyj_z', \n",
    "                   'mad_gyj_x', 'mad_gyj_y', 'mad_gyj_z',\n",
    "                   'min_gyj_x', 'min_gyj_y', 'min_gyj_z', \n",
    "                   'max_gyj_x', 'max_gyj_y', 'max_gyj_z', \n",
    "                   'em_gyj_x', 'em_gyj_y', 'em_gyj_z', \n",
    "                   'iqr_gyj_x', 'iqr_gyj_y', 'iqr_gyj_z', \n",
    "                   'sma_gyj']\n",
    "\n",
    "tgy_mag_cols = ['mean_mgy', 'std_mgy', 'mad_mgy', 'min_mgy', 'max_mgy', 'em_mgy', 'iqr_mgy', 'sma_mgy']\n",
    "\n",
    "tgy_jmag_cols = ['mean_mgy_jerk', 'std_mgy_jerk', 'mad_mgy_jerk', 'min_mgy_jerk', 'max_mgy_jerk', \n",
    "                     'em_mgy_jerk', 'iqr_mgy_jerk', 'sma_mgy_jerk']\n",
    "fgy_cols = ['mean_fgy_x', 'mean_fgy_y', 'mean_fgy_z', \n",
    "               'std_fgy_x', 'std_fgy_y', 'std_fgy_z', \n",
    "               'mad_fgy_x', 'mad_fgy_y', 'mad_fgy_z',\n",
    "               'min_fgy_x', 'min_fgy_y', 'min_fgy_z', \n",
    "               'max_fgy_x', 'max_fgy_y', 'max_fgy_z', \n",
    "               'em_fgy_x', 'em_fgy_y', 'em_fgy_z', \n",
    "               'iqr_fgy_x', 'iqr_fgy_y', 'iqr_fgy_z', \n",
    "               'sma_fgy', \n",
    "               'skew_fgy_x', 'skew_fgy_y', 'skew_fgy_z', \n",
    "               'kurt_fgy_x', 'kurt_fgy_y', 'kurt_fgy_z', \n",
    "               'idx_fgy_x', 'idx_fgy_y', 'idx_fgy_z']\n",
    "\n",
    "fgy_jerk_cols = ['mean_fgyj_x', 'mean_fgyj_y', 'mean_fgyj_z', \n",
    "                   'std_fgyj_x', 'std_fgyj_y', 'std_fgyj_z', \n",
    "                   'mad_fgyj_x', 'mad_fgyj_y', 'mad_fgyj_z',\n",
    "                   'min_fgyj_x', 'min_fgyj_y', 'min_fgyj_z', \n",
    "                   'max_fgyj_x', 'max_fgyj_y', 'max_fgyj_z', \n",
    "                   'em_fgyj_x', 'em_fgyj_y', 'em_fgyj_z', \n",
    "                   'iqr_fgyj_x', 'iqr_fgyj_y', 'iqr_fgyj_z', \n",
    "                   'sma_fgyj',\n",
    "                   'skew_fgyj_x', 'skew_fgyj_y', 'skew_fgyj_z', \n",
    "                   'kurt_fgyj_x', 'kurt_fgyj_y', 'kurt_fgyj_z', \n",
    "                   'idx_fgyj_x', 'idx_fgyj_y', 'idx_fgyj_z']\n",
    "\n",
    "fgy_mag_cols = ['mean_mfgy', 'std_mfgy', 'mad_mfgy', 'min_mfgy', 'max_mfgy', 'em_mfgy', 'iqr_mfgy', 'sma_mfgy',\n",
    "               'skew_mfgy', 'kurt_mfgy',  'idx_mfgy']\n",
    "\n",
    "fgy_jmag_cols = ['mean_mfgy_jerk', 'std_mfgy_jerk', 'mad_mfgy_jerk', 'min_mfgy_jerk', 'max_mfgy_jerk', \n",
    "                     'em_mfgy_jerk', 'iqr_mfgy_jerk', 'sma_mfgy_jerk', 'skew_mfgy_jerk', 'kurt_mfgy_jerk',  'idx_mfgy_jerk']\n"
   ]
  },
  {
   "cell_type": "code",
   "execution_count": 11,
   "metadata": {
    "collapsed": true
   },
   "outputs": [],
   "source": [
    "def process_csv_data(path):\n",
    "    dirs = get_session_dirs(path)\n",
    "\n",
    "    out_acc_df = pd.DataFrame(columns = tacc_cols)\n",
    "\n",
    "    out_acc_jerk_df = pd.DataFrame(columns = tacc_jerk_cols)\n",
    "\n",
    "    acc_mag = pd.DataFrame(columns = tacc_mag_cols)\n",
    "\n",
    "    acc_jerk_mag = pd.DataFrame(columns = tacc_jmag_cols)\n",
    "\n",
    "    out_facc_df = pd.DataFrame(columns = facc_cols)\n",
    "\n",
    "    out_facc_jerk_df = pd.DataFrame(columns = facc_jerk_cols)\n",
    "\n",
    "    facc_mag = pd.DataFrame(columns = facc_mag_cols)\n",
    "\n",
    "    facc_jerk_mag = pd.DataFrame(columns = facc_jmag_cols)\n",
    "\n",
    "    out_gy_df = pd.DataFrame(columns = tgy_cols)\n",
    "\n",
    "    out_gy_jerk_df = pd.DataFrame(columns = tgy_jerk_cols)\n",
    "\n",
    "    gy_mag = pd.DataFrame(columns = tgy_mag_cols)\n",
    "\n",
    "    gy_jerk_mag = pd.DataFrame(columns = tgy_jmag_cols)\n",
    "\n",
    "    out_fgy_df = pd.DataFrame(columns = fgy_cols)\n",
    "\n",
    "    out_fgy_jerk_df = pd.DataFrame(columns = fgy_jerk_cols)\n",
    "\n",
    "    fgy_mag = pd.DataFrame(columns = fgy_mag_cols)\n",
    "\n",
    "    fgy_jerk_mag = pd.DataFrame(columns = fgy_jmag_cols)\n",
    "\n",
    "    acc_gy_df = pd.DataFrame()\n",
    "\n",
    "    for i in tqdm(range(len(dirs))): \n",
    "        full_path_acc = os.path.normpath(dirs[i] + \"/\" + \"1_android.sensor.accelerometer.data.csv.gz\")\n",
    "        full_path_gy = os.path.normpath(dirs[i] + \"/\" + \"4_android.sensor.gyroscope.data.csv.gz\")\n",
    "    \n",
    "\n",
    "        print(\"processing acceleration: \" + full_path_acc)\n",
    "        in_df_ac = pd.read_csv(full_path_acc, compression='gzip', sep=',', header=None)\n",
    "        \n",
    "        if in_df_ac.shape[0] > 3000:\n",
    "    \n",
    "            in_df_ac = in_df_ac.drop(list(range(1000)), axis = 0)\n",
    "            in_df_ac.index = range(in_df_ac.shape[0])\n",
    "            in_df_ac = in_df_ac.drop(list(range(in_df_ac.shape[0]-1000, in_df_ac.shape[0])), axis = 0)\n",
    "            in_df_ac.index = range(in_df_ac.shape[0])\n",
    "\n",
    "            \n",
    "        in_df_ac = five_point_smoothing(in_df_ac)\n",
    "    \n",
    "        in_df_ac_jerk = in_df_ac.copy()\n",
    "        in_df_ac_jerk = get_jerk(in_df_ac_jerk)\n",
    "\n",
    "        in_df_fac = in_df_ac.copy()\n",
    "        in_df_fac = get_fft(in_df_fac)\n",
    "\n",
    "        in_df_fac_jerk = in_df_ac_jerk.copy()\n",
    "        in_df_fac_jerk = get_fft(in_df_fac_jerk)\n",
    "\n",
    "        out_acc_df = process_acc(in_df_ac, tacc_cols, out_acc_df, 0)\n",
    "        out_acc_jerk_df = process_acc(in_df_ac_jerk, tacc_jerk_cols, out_acc_jerk_df, 0)\n",
    "        out_facc_df = process_acc(in_df_fac, facc_cols, out_facc_df, 1)\n",
    "        out_facc_jerk_df = process_acc(in_df_fac_jerk, facc_jerk_cols, out_facc_jerk_df, 1)\n",
    "\n",
    "        acc_mag = process_mag(in_df_ac, tacc_mag_cols, acc_mag, 0)\n",
    "        acc_jerk_mag = process_mag(in_df_ac_jerk, tacc_jmag_cols, acc_jerk_mag, 0)\n",
    "        facc_mag = process_mag(in_df_fac, facc_mag_cols, facc_mag, 1)\n",
    "        facc_jerk_mag = process_mag(in_df_fac_jerk, facc_jmag_cols, facc_jerk_mag, 1)\n",
    "\n",
    "        print(\"processing gyroscope: \" + full_path_gy)\n",
    "        in_df_gy = pd.read_csv(full_path_gy, compression='gzip', sep=',', header=None)\n",
    "        \n",
    "        if in_df_gy.shape[0] > 3000:\n",
    "        \n",
    "            in_df_gy = in_df_gy.drop(list(range(1000)), axis = 0)\n",
    "            in_df_gy.index = range(in_df_gy.shape[0])\n",
    "            in_df_gy = in_df_gy.drop(list(range(in_df_gy.shape[0]-1000, in_df_gy.shape[0])), axis = 0)\n",
    "            in_df_gy.index = range(in_df_gy.shape[0])\n",
    "\n",
    "        in_df_gy = five_point_smoothing(in_df_gy)\n",
    "        \n",
    "        in_df_gy_jerk = in_df_gy.copy()\n",
    "        in_df_gy_jerk = get_jerk(in_df_gy_jerk)\n",
    "\n",
    "        in_df_fgy = in_df_gy.copy()\n",
    "        in_df_fgy = get_fft(in_df_fgy)\n",
    "\n",
    "        in_df_fgy_jerk = in_df_gy_jerk.copy()\n",
    "        in_df_fgy_jerk = get_fft(in_df_fgy_jerk)\n",
    "\n",
    "        out_gy_df = process_gyr(in_df_gy, tgy_cols, out_gy_df, 0)\n",
    "        out_gy_jerk_df = process_acc(in_df_gy_jerk, tgy_jerk_cols, out_gy_jerk_df, 0)\n",
    "        out_fgy_df = process_acc(in_df_fgy, fgy_cols, out_fgy_df, 1)\n",
    "        out_fgy_jerk_df = process_acc(in_df_fgy_jerk, fgy_jerk_cols, out_fgy_jerk_df, 1)\n",
    "\n",
    "        gy_mag = process_mag(in_df_gy, tgy_mag_cols, gy_mag, 0)\n",
    "        gy_jerk_mag = process_mag(in_df_gy_jerk, tgy_jmag_cols, gy_jerk_mag, 0)\n",
    "        fgy_mag = process_mag(in_df_fgy, fgy_mag_cols, fgy_mag, 1)\n",
    "        fgy_jerk_mag = process_mag(in_df_fgy_jerk, fgy_jmag_cols, fgy_jerk_mag, 1)\n",
    "\n",
    "\n",
    "        #handling mismatch in rows\n",
    "        if out_gy_df.shape[0] < out_acc_df.shape[0]:\n",
    "            out_acc_df = out_acc_df[:out_gy_df.shape[0]]\n",
    "            out_acc_jerk_df = out_acc_jerk_df[:out_gy_df.shape[0]]\n",
    "            out_facc_df = out_facc_df[:out_gy_df.shape[0]]\n",
    "            out_facc_jerk_df = out_facc_jerk_df[:out_gy_df.shape[0]]\n",
    "            acc_mag = acc_mag[:out_gy_df.shape[0]]\n",
    "            acc_jerk_mag = acc_jerk_mag[:out_gy_df.shape[0]]\n",
    "            facc_mag = facc_mag[:out_gy_df.shape[0]]\n",
    "            facc_jerk_mag = facc_jerk_mag[:out_gy_df.shape[0]]\n",
    "\n",
    "        acc_gy_df = pd.concat([out_acc_df, acc_mag, out_acc_jerk_df, acc_jerk_mag, \n",
    "                               out_facc_df, facc_mag, out_facc_jerk_df, facc_jerk_mag,\n",
    "                               out_gy_df, gy_mag, out_gy_jerk_df, gy_jerk_mag, \n",
    "                               out_fgy_df, fgy_mag, out_fgy_jerk_df, fgy_jerk_mag], axis=1)\n",
    "\n",
    "    print(acc_gy_df.shape)\n",
    "    return acc_gy_df"
   ]
  },
  {
   "cell_type": "code",
   "execution_count": 12,
   "metadata": {},
   "outputs": [
    {
     "name": "stderr",
     "output_type": "stream",
     "text": [
      "  0%|                                                                                           | 0/40 [00:00<?, ?it/s]"
     ]
    },
    {
     "name": "stdout",
     "output_type": "stream",
     "text": [
      "processing acceleration: Sessions_new\\14442D57F7E1B88_Tue_Mar_06_18-33_2018_PST\\data\\1_android.sensor.accelerometer.data.csv.gz\n",
      "processing gyroscope: Sessions_new\\14442D57F7E1B88_Tue_Mar_06_18-33_2018_PST\\data\\4_android.sensor.gyroscope.data.csv.gz\n"
     ]
    },
    {
     "name": "stderr",
     "output_type": "stream",
     "text": [
      "  2%|██                                                                              | 1/40 [02:28<1:36:23, 148.29s/it]"
     ]
    },
    {
     "name": "stdout",
     "output_type": "stream",
     "text": [
      "processing acceleration: Sessions_new\\14442D57F7E1B88_Wed_Mar_07_11-53_2018_PST\\data\\1_android.sensor.accelerometer.data.csv.gz\n",
      "processing gyroscope: Sessions_new\\14442D57F7E1B88_Wed_Mar_07_11-53_2018_PST\\data\\4_android.sensor.gyroscope.data.csv.gz\n"
     ]
    },
    {
     "name": "stderr",
     "output_type": "stream",
     "text": [
      "  5%|████                                                                            | 2/40 [04:27<1:24:34, 133.54s/it]"
     ]
    },
    {
     "name": "stdout",
     "output_type": "stream",
     "text": [
      "processing acceleration: Sessions_new\\14442D57F7E1B88_Wed_Mar_07_13-36_2018_PST\\data\\1_android.sensor.accelerometer.data.csv.gz\n",
      "processing gyroscope: Sessions_new\\14442D57F7E1B88_Wed_Mar_07_13-36_2018_PST\\data\\4_android.sensor.gyroscope.data.csv.gz\n"
     ]
    },
    {
     "name": "stderr",
     "output_type": "stream",
     "text": [
      "  8%|██████                                                                          | 3/40 [05:02<1:02:05, 100.69s/it]"
     ]
    },
    {
     "name": "stdout",
     "output_type": "stream",
     "text": [
      "processing acceleration: Sessions_new\\14442D57F7E1B88_Wed_Mar_07_13-42_2018_PST\\data\\1_android.sensor.accelerometer.data.csv.gz\n",
      "processing gyroscope: Sessions_new\\14442D57F7E1B88_Wed_Mar_07_13-42_2018_PST\\data\\4_android.sensor.gyroscope.data.csv.gz\n"
     ]
    },
    {
     "name": "stderr",
     "output_type": "stream",
     "text": [
      " 10%|████████▎                                                                          | 4/40 [05:07<46:07, 76.87s/it]"
     ]
    },
    {
     "name": "stdout",
     "output_type": "stream",
     "text": [
      "processing acceleration: Sessions_new\\14442D57F7E1B88_Wed_Mar_07_13-44_2018_PST\\data\\1_android.sensor.accelerometer.data.csv.gz\n",
      "processing gyroscope: Sessions_new\\14442D57F7E1B88_Wed_Mar_07_13-44_2018_PST\\data\\4_android.sensor.gyroscope.data.csv.gz\n"
     ]
    },
    {
     "name": "stderr",
     "output_type": "stream",
     "text": [
      " 12%|██████████                                                                      | 5/40 [08:42<1:00:59, 104.57s/it]"
     ]
    },
    {
     "name": "stdout",
     "output_type": "stream",
     "text": [
      "processing acceleration: Sessions_new\\14442D57F7E1B88_Wed_Mar_07_13-57_2018_PST\\data\\1_android.sensor.accelerometer.data.csv.gz\n",
      "processing gyroscope: Sessions_new\\14442D57F7E1B88_Wed_Mar_07_13-57_2018_PST\\data\\4_android.sensor.gyroscope.data.csv.gz\n"
     ]
    },
    {
     "name": "stderr",
     "output_type": "stream",
     "text": [
      " 15%|████████████▍                                                                      | 6/40 [08:45<49:35, 87.51s/it]"
     ]
    },
    {
     "name": "stdout",
     "output_type": "stream",
     "text": [
      "processing acceleration: Sessions_new\\14442D57F7E1B88_Thu_Feb_08_00-16_2018_PST\\data\\1_android.sensor.accelerometer.data.csv.gz\n",
      "processing gyroscope: Sessions_new\\14442D57F7E1B88_Thu_Feb_08_00-16_2018_PST\\data\\4_android.sensor.gyroscope.data.csv.gz\n"
     ]
    },
    {
     "name": "stderr",
     "output_type": "stream",
     "text": [
      " 18%|██████████████▌                                                                    | 7/40 [08:49<41:37, 75.67s/it]"
     ]
    },
    {
     "name": "stdout",
     "output_type": "stream",
     "text": [
      "processing acceleration: Sessions_new\\14442D57F7E1B88_Thu_Feb_08_00-18_2018_PST\\data\\1_android.sensor.accelerometer.data.csv.gz\n",
      "processing gyroscope: Sessions_new\\14442D57F7E1B88_Thu_Feb_08_00-18_2018_PST\\data\\4_android.sensor.gyroscope.data.csv.gz\n"
     ]
    },
    {
     "name": "stderr",
     "output_type": "stream",
     "text": [
      " 20%|████████████████▌                                                                  | 8/40 [08:53<35:34, 66.69s/it]"
     ]
    },
    {
     "name": "stdout",
     "output_type": "stream",
     "text": [
      "processing acceleration: Sessions_new\\14442D57F7E1B88_Thu_Feb_08_00-25_2018_PST\\data\\1_android.sensor.accelerometer.data.csv.gz\n",
      "processing gyroscope: Sessions_new\\14442D57F7E1B88_Thu_Feb_08_00-25_2018_PST\\data\\4_android.sensor.gyroscope.data.csv.gz\n"
     ]
    },
    {
     "name": "stderr",
     "output_type": "stream",
     "text": [
      " 22%|██████████████████▋                                                                | 9/40 [08:57<30:51, 59.72s/it]"
     ]
    },
    {
     "name": "stdout",
     "output_type": "stream",
     "text": [
      "processing acceleration: Sessions_new\\14442D57F7E1B88_Thu_Feb_08_00-31_2018_PST\\data\\1_android.sensor.accelerometer.data.csv.gz\n",
      "processing gyroscope: Sessions_new\\14442D57F7E1B88_Thu_Feb_08_00-31_2018_PST\\data\\4_android.sensor.gyroscope.data.csv.gz\n"
     ]
    },
    {
     "name": "stderr",
     "output_type": "stream",
     "text": [
      " 25%|████████████████████▌                                                             | 10/40 [09:21<28:03, 56.13s/it]"
     ]
    },
    {
     "name": "stdout",
     "output_type": "stream",
     "text": [
      "processing acceleration: Sessions_new\\14442D57F7E1B88_Thu_Feb_08_00-35_2018_PST\\data\\1_android.sensor.accelerometer.data.csv.gz\n",
      "processing gyroscope: Sessions_new\\14442D57F7E1B88_Thu_Feb_08_00-35_2018_PST\\data\\4_android.sensor.gyroscope.data.csv.gz\n"
     ]
    },
    {
     "name": "stderr",
     "output_type": "stream",
     "text": [
      " 28%|██████████████████████▌                                                           | 11/40 [10:07<26:41, 55.21s/it]"
     ]
    },
    {
     "name": "stdout",
     "output_type": "stream",
     "text": [
      "processing acceleration: Sessions_new\\14442D57F7E1B88_Thu_Feb_08_00-38_2018_PST\\data\\1_android.sensor.accelerometer.data.csv.gz\n",
      "processing gyroscope: Sessions_new\\14442D57F7E1B88_Thu_Feb_08_00-38_2018_PST\\data\\4_android.sensor.gyroscope.data.csv.gz\n"
     ]
    },
    {
     "name": "stderr",
     "output_type": "stream",
     "text": [
      " 30%|████████████████████████▌                                                         | 12/40 [10:11<23:46, 50.95s/it]"
     ]
    },
    {
     "name": "stdout",
     "output_type": "stream",
     "text": [
      "processing acceleration: Sessions_new\\14442D57F7E1B88_Thu_Feb_08_00-39_2018_PST\\data\\1_android.sensor.accelerometer.data.csv.gz\n",
      "processing gyroscope: Sessions_new\\14442D57F7E1B88_Thu_Feb_08_00-39_2018_PST\\data\\4_android.sensor.gyroscope.data.csv.gz\n"
     ]
    },
    {
     "name": "stderr",
     "output_type": "stream",
     "text": [
      " 32%|██████████████████████████▋                                                       | 13/40 [10:40<22:10, 49.27s/it]"
     ]
    },
    {
     "name": "stdout",
     "output_type": "stream",
     "text": [
      "processing acceleration: Sessions_new\\14442D57F7E1B88_Thu_Feb_08_07-43_2018_PST\\data\\1_android.sensor.accelerometer.data.csv.gz\n",
      "processing gyroscope: Sessions_new\\14442D57F7E1B88_Thu_Feb_08_07-43_2018_PST\\data\\4_android.sensor.gyroscope.data.csv.gz\n"
     ]
    },
    {
     "name": "stderr",
     "output_type": "stream",
     "text": [
      " 35%|████████████████████████████▋                                                     | 14/40 [14:38<27:12, 62.79s/it]"
     ]
    },
    {
     "name": "stdout",
     "output_type": "stream",
     "text": [
      "processing acceleration: Sessions_new\\14442D57F7E1B88_Thu_Feb_08_07-54_2018_PST\\data\\1_android.sensor.accelerometer.data.csv.gz\n",
      "processing gyroscope: Sessions_new\\14442D57F7E1B88_Thu_Feb_08_07-54_2018_PST\\data\\4_android.sensor.gyroscope.data.csv.gz\n"
     ]
    },
    {
     "name": "stderr",
     "output_type": "stream",
     "text": [
      " 38%|██████████████████████████████▊                                                   | 15/40 [19:23<32:18, 77.54s/it]"
     ]
    },
    {
     "name": "stdout",
     "output_type": "stream",
     "text": [
      "processing acceleration: Sessions_new\\14442D57F7E1B88_Thu_Feb_08_08-13_2018_PST\\data\\1_android.sensor.accelerometer.data.csv.gz\n",
      "processing gyroscope: Sessions_new\\14442D57F7E1B88_Thu_Feb_08_08-13_2018_PST\\data\\4_android.sensor.gyroscope.data.csv.gz\n"
     ]
    },
    {
     "name": "stderr",
     "output_type": "stream",
     "text": [
      " 40%|████████████████████████████████▊                                                 | 16/40 [26:13<39:19, 98.32s/it]"
     ]
    },
    {
     "name": "stdout",
     "output_type": "stream",
     "text": [
      "processing acceleration: Sessions_new\\14442D57F7E1B88_Thu_Feb_08_14-46_2018_PST\\data\\1_android.sensor.accelerometer.data.csv.gz\n",
      "processing gyroscope: Sessions_new\\14442D57F7E1B88_Thu_Feb_08_14-46_2018_PST\\data\\4_android.sensor.gyroscope.data.csv.gz\n"
     ]
    },
    {
     "name": "stderr",
     "output_type": "stream",
     "text": [
      " 42%|██████████████████████████████████▍                                              | 17/40 [37:52<51:14, 133.69s/it]"
     ]
    },
    {
     "name": "stdout",
     "output_type": "stream",
     "text": [
      "processing acceleration: Sessions_new\\14442D57F7E1B88_Thu_Feb_08_19-19_2018_PST\\data\\1_android.sensor.accelerometer.data.csv.gz\n",
      "processing gyroscope: Sessions_new\\14442D57F7E1B88_Thu_Feb_08_19-19_2018_PST\\data\\4_android.sensor.gyroscope.data.csv.gz\n"
     ]
    },
    {
     "name": "stderr",
     "output_type": "stream",
     "text": [
      " 45%|████████████████████████████████████▍                                            | 18/40 [39:09<47:51, 130.55s/it]"
     ]
    },
    {
     "name": "stdout",
     "output_type": "stream",
     "text": [
      "processing acceleration: Sessions_new\\14442D57F7E1B88_Fri_Feb_09_09-37_2018_PST\\data\\1_android.sensor.accelerometer.data.csv.gz\n",
      "processing gyroscope: Sessions_new\\14442D57F7E1B88_Fri_Feb_09_09-37_2018_PST\\data\\4_android.sensor.gyroscope.data.csv.gz\n"
     ]
    },
    {
     "name": "stderr",
     "output_type": "stream",
     "text": [
      " 48%|██████████████████████████████████████▍                                          | 19/40 [40:08<44:21, 126.76s/it]"
     ]
    },
    {
     "name": "stdout",
     "output_type": "stream",
     "text": [
      "processing acceleration: Sessions_new\\14442D57F7E1B88_Fri_Feb_09_09-41_2018_PST\\data\\1_android.sensor.accelerometer.data.csv.gz\n",
      "processing gyroscope: Sessions_new\\14442D57F7E1B88_Fri_Feb_09_09-41_2018_PST\\data\\4_android.sensor.gyroscope.data.csv.gz\n"
     ]
    },
    {
     "name": "stderr",
     "output_type": "stream",
     "text": [
      " 50%|████████████████████████████████████████▌                                        | 20/40 [41:34<41:34, 124.72s/it]"
     ]
    },
    {
     "name": "stdout",
     "output_type": "stream",
     "text": [
      "processing acceleration: Sessions_new\\14442D57F7E1B88_Fri_Feb_09_09-47_2018_PST\\data\\1_android.sensor.accelerometer.data.csv.gz\n",
      "processing gyroscope: Sessions_new\\14442D57F7E1B88_Fri_Feb_09_09-47_2018_PST\\data\\4_android.sensor.gyroscope.data.csv.gz\n"
     ]
    },
    {
     "name": "stderr",
     "output_type": "stream",
     "text": [
      " 52%|██████████████████████████████████████████▌                                      | 21/40 [43:45<39:35, 125.04s/it]"
     ]
    },
    {
     "name": "stdout",
     "output_type": "stream",
     "text": [
      "processing acceleration: Sessions_new\\14442D57F7E1B88_Fri_Feb_09_09-54_2018_PST\\data\\1_android.sensor.accelerometer.data.csv.gz\n",
      "processing gyroscope: Sessions_new\\14442D57F7E1B88_Fri_Feb_09_09-54_2018_PST\\data\\4_android.sensor.gyroscope.data.csv.gz\n"
     ]
    },
    {
     "name": "stderr",
     "output_type": "stream",
     "text": [
      " 55%|████████████████████████████████████████████▌                                    | 22/40 [49:19<40:21, 134.51s/it]"
     ]
    },
    {
     "name": "stdout",
     "output_type": "stream",
     "text": [
      "processing acceleration: Sessions_new\\14442D57F7E1B88_Fri_Feb_09_11-54_2018_PST\\data\\1_android.sensor.accelerometer.data.csv.gz\n",
      "processing gyroscope: Sessions_new\\14442D57F7E1B88_Fri_Feb_09_11-54_2018_PST\\data\\4_android.sensor.gyroscope.data.csv.gz\n"
     ]
    },
    {
     "name": "stderr",
     "output_type": "stream",
     "text": [
      " 57%|██████████████████████████████████████████████▌                                  | 23/40 [54:54<40:35, 143.24s/it]"
     ]
    },
    {
     "name": "stdout",
     "output_type": "stream",
     "text": [
      "processing acceleration: Sessions_new\\14442D57F7E1B88_Sun_Feb_11_18-31_2018_PST\\data\\1_android.sensor.accelerometer.data.csv.gz\n",
      "processing gyroscope: Sessions_new\\14442D57F7E1B88_Sun_Feb_11_18-31_2018_PST\\data\\4_android.sensor.gyroscope.data.csv.gz\n"
     ]
    },
    {
     "name": "stderr",
     "output_type": "stream",
     "text": [
      " 60%|███████████████████████████████████████████████▍                               | 24/40 [1:10:02<46:41, 175.12s/it]"
     ]
    },
    {
     "name": "stdout",
     "output_type": "stream",
     "text": [
      "processing acceleration: Sessions_new\\14442D57F7E1B88_Mon_Feb_12_01-46_2018_PST\\data\\1_android.sensor.accelerometer.data.csv.gz\n",
      "processing gyroscope: Sessions_new\\14442D57F7E1B88_Mon_Feb_12_01-46_2018_PST\\data\\4_android.sensor.gyroscope.data.csv.gz\n"
     ]
    },
    {
     "name": "stderr",
     "output_type": "stream",
     "text": [
      " 62%|█████████████████████████████████████████████████▍                             | 25/40 [1:21:36<48:57, 195.86s/it]"
     ]
    },
    {
     "name": "stdout",
     "output_type": "stream",
     "text": [
      "processing acceleration: Sessions_new\\14442D57F7E1B88_Mon_Feb_12_22-04_2018_PST\\data\\1_android.sensor.accelerometer.data.csv.gz\n",
      "processing gyroscope: Sessions_new\\14442D57F7E1B88_Mon_Feb_12_22-04_2018_PST\\data\\4_android.sensor.gyroscope.data.csv.gz\n"
     ]
    },
    {
     "name": "stderr",
     "output_type": "stream",
     "text": [
      " 65%|███████████████████████████████████████████████████▎                           | 26/40 [1:28:03<47:25, 203.23s/it]"
     ]
    },
    {
     "name": "stdout",
     "output_type": "stream",
     "text": [
      "processing acceleration: Sessions_new\\14442D57F7E1B88_Tue_Feb_13_00-40_2018_PST\\data\\1_android.sensor.accelerometer.data.csv.gz\n",
      "processing gyroscope: Sessions_new\\14442D57F7E1B88_Tue_Feb_13_00-40_2018_PST\\data\\4_android.sensor.gyroscope.data.csv.gz\n"
     ]
    },
    {
     "name": "stderr",
     "output_type": "stream",
     "text": [
      " 68%|█████████████████████████████████████████████████████▎                         | 27/40 [1:35:55<46:11, 213.16s/it]"
     ]
    },
    {
     "name": "stdout",
     "output_type": "stream",
     "text": [
      "processing acceleration: Sessions_new\\14442D57F7E1B88_Tue_Feb_13_17-53_2018_PST\\data\\1_android.sensor.accelerometer.data.csv.gz\n",
      "processing gyroscope: Sessions_new\\14442D57F7E1B88_Tue_Feb_13_17-53_2018_PST\\data\\4_android.sensor.gyroscope.data.csv.gz\n"
     ]
    },
    {
     "name": "stderr",
     "output_type": "stream",
     "text": [
      " 70%|███████████████████████████████████████████████████████▎                       | 28/40 [1:37:42<41:52, 209.38s/it]"
     ]
    },
    {
     "name": "stdout",
     "output_type": "stream",
     "text": [
      "processing acceleration: Sessions_new\\14442D57F7E1B88_Tue_Feb_13_18-01_2018_PST\\data\\1_android.sensor.accelerometer.data.csv.gz\n",
      "processing gyroscope: Sessions_new\\14442D57F7E1B88_Tue_Feb_13_18-01_2018_PST\\data\\4_android.sensor.gyroscope.data.csv.gz\n"
     ]
    },
    {
     "name": "stderr",
     "output_type": "stream",
     "text": [
      " 72%|█████████████████████████████████████████████████████████▎                     | 29/40 [1:40:03<37:57, 207.01s/it]"
     ]
    },
    {
     "name": "stdout",
     "output_type": "stream",
     "text": [
      "processing acceleration: Sessions_new\\14442D57F7E1B88_Tue_Feb_13_18-09_2018_PST\\data\\1_android.sensor.accelerometer.data.csv.gz\n",
      "processing gyroscope: Sessions_new\\14442D57F7E1B88_Tue_Feb_13_18-09_2018_PST\\data\\4_android.sensor.gyroscope.data.csv.gz\n"
     ]
    },
    {
     "name": "stderr",
     "output_type": "stream",
     "text": [
      " 75%|███████████████████████████████████████████████████████████▎                   | 30/40 [1:50:26<36:48, 220.89s/it]"
     ]
    },
    {
     "name": "stdout",
     "output_type": "stream",
     "text": [
      "processing acceleration: Sessions_new\\14442D57F7E1B88_Fri_Feb_16_14-11_2018_PST\\data\\1_android.sensor.accelerometer.data.csv.gz\n",
      "processing gyroscope: Sessions_new\\14442D57F7E1B88_Fri_Feb_16_14-11_2018_PST\\data\\4_android.sensor.gyroscope.data.csv.gz\n"
     ]
    },
    {
     "name": "stderr",
     "output_type": "stream",
     "text": [
      " 78%|█████████████████████████████████████████████████████████████▏                 | 31/40 [1:53:55<33:04, 220.51s/it]"
     ]
    },
    {
     "name": "stdout",
     "output_type": "stream",
     "text": [
      "processing acceleration: Sessions_new\\14442D57F7E1B88_Fri_Feb_16_14-21_2018_PST\\data\\1_android.sensor.accelerometer.data.csv.gz\n",
      "processing gyroscope: Sessions_new\\14442D57F7E1B88_Fri_Feb_16_14-21_2018_PST\\data\\4_android.sensor.gyroscope.data.csv.gz\n"
     ]
    },
    {
     "name": "stderr",
     "output_type": "stream",
     "text": [
      " 80%|███████████████████████████████████████████████████████████████▏               | 32/40 [1:58:21<29:35, 221.91s/it]"
     ]
    },
    {
     "name": "stdout",
     "output_type": "stream",
     "text": [
      "processing acceleration: Sessions_new\\14442D57F7E1B88_Fri_Feb_16_14-33_2018_PST\\data\\1_android.sensor.accelerometer.data.csv.gz\n",
      "processing gyroscope: Sessions_new\\14442D57F7E1B88_Fri_Feb_16_14-33_2018_PST\\data\\4_android.sensor.gyroscope.data.csv.gz\n"
     ]
    },
    {
     "name": "stderr",
     "output_type": "stream",
     "text": [
      " 82%|█████████████████████████████████████████████████████████████████▏             | 33/40 [2:04:55<26:29, 227.13s/it]"
     ]
    },
    {
     "name": "stdout",
     "output_type": "stream",
     "text": [
      "processing acceleration: Sessions_new\\14442D57F7E1B88_Fri_Feb_16_17-01_2018_PST\\data\\1_android.sensor.accelerometer.data.csv.gz\n",
      "processing gyroscope: Sessions_new\\14442D57F7E1B88_Fri_Feb_16_17-01_2018_PST\\data\\4_android.sensor.gyroscope.data.csv.gz\n"
     ]
    },
    {
     "name": "stderr",
     "output_type": "stream",
     "text": [
      " 85%|███████████████████████████████████████████████████████████████████▏           | 34/40 [2:59:59<31:45, 317.62s/it]"
     ]
    },
    {
     "name": "stdout",
     "output_type": "stream",
     "text": [
      "processing acceleration: Sessions_new\\14442D57F7E1B88_Fri_Feb_16_18-24_2018_PST\\data\\1_android.sensor.accelerometer.data.csv.gz\n",
      "processing gyroscope: Sessions_new\\14442D57F7E1B88_Fri_Feb_16_18-24_2018_PST\\data\\4_android.sensor.gyroscope.data.csv.gz\n"
     ]
    },
    {
     "name": "stderr",
     "output_type": "stream",
     "text": [
      " 88%|█████████████████████████████████████████████████████████████████████▏         | 35/40 [3:00:02<25:43, 308.64s/it]"
     ]
    },
    {
     "name": "stdout",
     "output_type": "stream",
     "text": [
      "processing acceleration: Sessions_new\\14442D57F7E1B88_Mon_Feb_26_13-54_2018_PST\\data\\1_android.sensor.accelerometer.data.csv.gz\n",
      "processing gyroscope: Sessions_new\\14442D57F7E1B88_Mon_Feb_26_13-54_2018_PST\\data\\4_android.sensor.gyroscope.data.csv.gz\n"
     ]
    },
    {
     "name": "stderr",
     "output_type": "stream",
     "text": [
      " 90%|███████████████████████████████████████████████████████████████████████        | 36/40 [3:00:28<20:03, 300.81s/it]"
     ]
    },
    {
     "name": "stdout",
     "output_type": "stream",
     "text": [
      "processing acceleration: Sessions_new\\14442D57F7E1B88_Mon_Feb_26_15-18_2018_PST\\data\\1_android.sensor.accelerometer.data.csv.gz\n",
      "processing gyroscope: Sessions_new\\14442D57F7E1B88_Mon_Feb_26_15-18_2018_PST\\data\\4_android.sensor.gyroscope.data.csv.gz\n"
     ]
    },
    {
     "name": "stderr",
     "output_type": "stream",
     "text": [
      " 92%|█████████████████████████████████████████████████████████████████████████      | 37/40 [3:02:48<14:49, 296.45s/it]"
     ]
    },
    {
     "name": "stdout",
     "output_type": "stream",
     "text": [
      "processing acceleration: Sessions_new\\14442D57F7E1B88_Mon_Feb_26_16-04_2018_PST\\data\\1_android.sensor.accelerometer.data.csv.gz\n",
      "processing gyroscope: Sessions_new\\14442D57F7E1B88_Mon_Feb_26_16-04_2018_PST\\data\\4_android.sensor.gyroscope.data.csv.gz\n"
     ]
    },
    {
     "name": "stderr",
     "output_type": "stream",
     "text": [
      " 95%|███████████████████████████████████████████████████████████████████████████    | 38/40 [3:05:33<09:45, 292.99s/it]"
     ]
    },
    {
     "name": "stdout",
     "output_type": "stream",
     "text": [
      "processing acceleration: Sessions_new\\14442D57F7E1B88_Mon_Feb_26_18-01_2018_PST\\data\\1_android.sensor.accelerometer.data.csv.gz\n",
      "processing gyroscope: Sessions_new\\14442D57F7E1B88_Mon_Feb_26_18-01_2018_PST\\data\\4_android.sensor.gyroscope.data.csv.gz\n"
     ]
    },
    {
     "name": "stderr",
     "output_type": "stream",
     "text": [
      " 98%|█████████████████████████████████████████████████████████████████████████████  | 39/40 [3:06:01<04:46, 286.20s/it]"
     ]
    },
    {
     "name": "stdout",
     "output_type": "stream",
     "text": [
      "processing acceleration: Sessions_new\\14442D57F7E1B88_Mon_Feb_26_18-03_2018_PST\\data\\1_android.sensor.accelerometer.data.csv.gz\n",
      "processing gyroscope: Sessions_new\\14442D57F7E1B88_Mon_Feb_26_18-03_2018_PST\\data\\4_android.sensor.gyroscope.data.csv.gz\n"
     ]
    },
    {
     "name": "stderr",
     "output_type": "stream",
     "text": [
      "100%|███████████████████████████████████████████████████████████████████████████████| 40/40 [3:09:25<00:00, 284.14s/it]\n"
     ]
    },
    {
     "name": "stdout",
     "output_type": "stream",
     "text": [
      "(3934, 289)\n",
      "--- 11366.227885007858 seconds ---\n"
     ]
    }
   ],
   "source": [
    "start_time = time.time()\n",
    "training_set_df = process_csv_data(\"Sessions_new/\")\n",
    "print(\"--- %s seconds ---\" % (time.time() - start_time))"
   ]
  },
  {
   "cell_type": "code",
   "execution_count": 14,
   "metadata": {},
   "outputs": [],
   "source": [
    "training_set_df.to_csv(\"10sec_smooth_cropped_288feat.csv\")\n",
    "#hist_activities(training_set_df)\n",
    "# plot_act_signals(in_df_ac)\n",
    "\n",
    "#combined_training_df = training_set_df\n",
    "#combined_training_df = combined_training_df.iloc[np.random.permutation(len(combined_training_df))]\n",
    "#combined_training_df.head()"
   ]
  },
  {
   "cell_type": "code",
   "execution_count": 14,
   "metadata": {},
   "outputs": [
    {
     "name": "stdout",
     "output_type": "stream",
     "text": [
      "64 288\n",
      "64\n",
      "['walking' 'walking' 'walking' 'walking' 'walking' 'walking' 'walking'\n",
      " 'walking' 'walking' 'walking' 'walking' 'walking' 'walking' 'walking'\n",
      " 'walking' 'walking' 'walking' 'walking' 'walking' 'walking' 'walking'\n",
      " 'walking' 'walking' 'walking' 'walking' 'walking' 'walking' 'walking'\n",
      " 'walking' 'walking' 'walking' 'walking' 'walking' 'walking' 'walking'\n",
      " 'walking' 'walking' 'walking' 'walking' 'walking' 'walking' 'walking'\n",
      " 'walking' 'walking' 'walking' 'walking' 'walking' 'walking' 'walking'\n",
      " 'walking' 'walking' 'walking' 'walking' 'walking' 'walking' 'walking'\n",
      " 'walking' 'walking' 'walking' 'walking' 'walking' 'walking' 'walking'\n",
      " 'walking']\n",
      "(64,)\n",
      "64\n"
     ]
    },
    {
     "name": "stderr",
     "output_type": "stream",
     "text": [
      "/Users/gringotts/anaconda3/lib/python3.6/site-packages/sklearn/utils/validation.py:475: DataConversionWarning: Data with input dtype object was converted to float64 by StandardScaler.\n",
      "  warnings.warn(msg, DataConversionWarning)\n"
     ]
    },
    {
     "data": {
      "text/plain": [
       "[2, 2, 2, 2, 2]"
      ]
     },
     "execution_count": 14,
     "metadata": {},
     "output_type": "execute_result"
    }
   ],
   "source": [
    "## Training set\n",
    "\n",
    "training_data = combined_training_df[tacc_cols+tacc_jerk_cols+tacc_mag_cols+tacc_jmag_cols+facc_cols+facc_jerk_cols+facc_mag_cols+facc_jmag_cols+tgy_jerk_cols+tgy_mag_cols+tgy_jmag_cols+fgy_cols+fgy_jerk_cols+fgy_mag_cols+fgy_jmag_cols+tgy_cols].as_matrix()\n",
    "training_targets = training_data[:, -1]\n",
    "training_data = training_data[:, :-1]\n",
    "\n",
    "std_scale = preprocessing.StandardScaler().fit(training_data)\n",
    "training_data_std = std_scale.transform(training_data)\n",
    "\n",
    "print(len(training_data_std), len(training_data_std[0]))\n",
    "print(len(training_targets))\n",
    "\n",
    "cache = {'laying_down' : 0, 'sitting' : 1, 'walking' : 2, 'standing' : 3}\n",
    "training_targets.reshape(len(training_targets))\n",
    "print(training_targets)\n",
    "print(training_targets.shape)\n",
    "\n",
    "training_bin_targets = []\n",
    "for i in training_targets:\n",
    "    training_bin_targets.append(cache[i])\n",
    "print(len(training_bin_targets))\n",
    "\n",
    "training_bin_targets[: 5]"
   ]
  },
  {
   "cell_type": "code",
   "execution_count": 15,
   "metadata": {},
   "outputs": [
    {
     "name": "stderr",
     "output_type": "stream",
     "text": [
      "  0%|                                                                                            | 0/4 [00:00<?, ?it/s]"
     ]
    },
    {
     "name": "stdout",
     "output_type": "stream",
     "text": [
      "processing acceleration: newData1\\14442D53F81BFEA_Mon_Mar_05_21-54_2018_PST\\data\\1_android.sensor.accelerometer.data.csv.gz\n",
      "processing gyroscope: newData1\\14442D53F81BFEA_Mon_Mar_05_21-54_2018_PST\\data\\4_android.sensor.gyroscope.data.csv.gz\n"
     ]
    },
    {
     "name": "stderr",
     "output_type": "stream",
     "text": [
      " 25%|████████████████████▊                                                              | 1/4 [02:55<08:47, 175.86s/it]"
     ]
    },
    {
     "name": "stdout",
     "output_type": "stream",
     "text": [
      "processing acceleration: newData1\\14442D53F81BFEA_Mon_Mar_05_22-01_2018_PST\\data\\1_android.sensor.accelerometer.data.csv.gz\n",
      "processing gyroscope: newData1\\14442D53F81BFEA_Mon_Mar_05_22-01_2018_PST\\data\\4_android.sensor.gyroscope.data.csv.gz\n"
     ]
    },
    {
     "name": "stderr",
     "output_type": "stream",
     "text": [
      " 50%|█████████████████████████████████████████▌                                         | 2/4 [04:31<04:31, 135.99s/it]"
     ]
    },
    {
     "name": "stdout",
     "output_type": "stream",
     "text": [
      "processing acceleration: newData1\\14442D53F81BFEA_Mon_Mar_05_22-06_2018_PST\\data\\1_android.sensor.accelerometer.data.csv.gz\n",
      "processing gyroscope: newData1\\14442D53F81BFEA_Mon_Mar_05_22-06_2018_PST\\data\\4_android.sensor.gyroscope.data.csv.gz\n"
     ]
    },
    {
     "name": "stderr",
     "output_type": "stream",
     "text": [
      " 75%|██████████████████████████████████████████████████████████████▎                    | 3/4 [06:21<02:07, 127.25s/it]"
     ]
    },
    {
     "name": "stdout",
     "output_type": "stream",
     "text": [
      "processing acceleration: newData1\\14442D53F81BFEA_Mon_Mar_05_22-14_2018_PST\\data\\1_android.sensor.accelerometer.data.csv.gz\n",
      "processing gyroscope: newData1\\14442D53F81BFEA_Mon_Mar_05_22-14_2018_PST\\data\\4_android.sensor.gyroscope.data.csv.gz\n"
     ]
    },
    {
     "name": "stderr",
     "output_type": "stream",
     "text": [
      "100%|███████████████████████████████████████████████████████████████████████████████████| 4/4 [08:19<00:00, 124.78s/it]\n"
     ]
    },
    {
     "name": "stdout",
     "output_type": "stream",
     "text": [
      "(241, 289)\n"
     ]
    }
   ],
   "source": [
    "## Testing set\n",
    "testing_set_df = process_csv_data('newData1/')"
   ]
  },
  {
   "cell_type": "code",
   "execution_count": 16,
   "metadata": {},
   "outputs": [
    {
     "data": {
      "image/png": "[encoded data removed]",
      "text/plain": [
       "<matplotlib.figure.Figure at 0x22d00866048>"
      ]
     },
     "metadata": {},
     "output_type": "display_data"
    },
    {
     "data": {
      "text/html": [
       "<div>\n",
       "<table border=\"1\" class=\"dataframe\">\n",
       "  <thead>\n",
       "    <tr style=\"text-align: right;\">\n",
       "      <th></th>\n",
       "      <th>mean_acc_x</th>\n",
       "      <th>mean_acc_y</th>\n",
       "      <th>mean_acc_z</th>\n",
       "      <th>std_acc_x</th>\n",
       "      <th>std_acc_y</th>\n",
       "      <th>std_acc_z</th>\n",
       "      <th>mad_acc_x</th>\n",
       "      <th>mad_acc_y</th>\n",
       "      <th>mad_acc_z</th>\n",
       "      <th>min_acc_x</th>\n",
       "      <th>...</th>\n",
       "      <th>std_mfgy_jerk</th>\n",
       "      <th>mad_mfgy_jerk</th>\n",
       "      <th>min_mfgy_jerk</th>\n",
       "      <th>max_mfgy_jerk</th>\n",
       "      <th>em_mfgy_jerk</th>\n",
       "      <th>iqr_mfgy_jerk</th>\n",
       "      <th>sma_mfgy_jerk</th>\n",
       "      <th>skew_mfgy_jerk</th>\n",
       "      <th>kurt_mfgy_jerk</th>\n",
       "      <th>idx_mfgy_jerk</th>\n",
       "    </tr>\n",
       "  </thead>\n",
       "  <tbody>\n",
       "    <tr>\n",
       "      <th>33</th>\n",
       "      <td>2.766752</td>\n",
       "      <td>-5.620212</td>\n",
       "      <td>-4.253272</td>\n",
       "      <td>1.274890</td>\n",
       "      <td>4.001141</td>\n",
       "      <td>4.968234</td>\n",
       "      <td>0.861058</td>\n",
       "      <td>2.405195</td>\n",
       "      <td>2.380841</td>\n",
       "      <td>-0.507961</td>\n",
       "      <td>...</td>\n",
       "      <td>1107.631634</td>\n",
       "      <td>787.089329</td>\n",
       "      <td>369.126376</td>\n",
       "      <td>6304.403006</td>\n",
       "      <td>9.413842e+06</td>\n",
       "      <td>1612.245561</td>\n",
       "      <td>2861.292449</td>\n",
       "      <td>0.311262</td>\n",
       "      <td>2.551548</td>\n",
       "      <td>832.0</td>\n",
       "    </tr>\n",
       "    <tr>\n",
       "      <th>192</th>\n",
       "      <td>1.305884</td>\n",
       "      <td>-1.261114</td>\n",
       "      <td>8.433857</td>\n",
       "      <td>2.256954</td>\n",
       "      <td>3.642098</td>\n",
       "      <td>0.563214</td>\n",
       "      <td>0.456413</td>\n",
       "      <td>0.805582</td>\n",
       "      <td>0.290685</td>\n",
       "      <td>-4.297983</td>\n",
       "      <td>...</td>\n",
       "      <td>612.488971</td>\n",
       "      <td>398.853883</td>\n",
       "      <td>460.164187</td>\n",
       "      <td>4612.493720</td>\n",
       "      <td>3.815453e+06</td>\n",
       "      <td>805.165372</td>\n",
       "      <td>1854.807227</td>\n",
       "      <td>0.632278</td>\n",
       "      <td>3.786425</td>\n",
       "      <td>22.0</td>\n",
       "    </tr>\n",
       "    <tr>\n",
       "      <th>144</th>\n",
       "      <td>-6.170257</td>\n",
       "      <td>-7.286478</td>\n",
       "      <td>-1.777548</td>\n",
       "      <td>1.468508</td>\n",
       "      <td>2.360041</td>\n",
       "      <td>1.859090</td>\n",
       "      <td>1.004313</td>\n",
       "      <td>1.745025</td>\n",
       "      <td>1.134163</td>\n",
       "      <td>-11.102040</td>\n",
       "      <td>...</td>\n",
       "      <td>1381.192342</td>\n",
       "      <td>877.302842</td>\n",
       "      <td>729.825309</td>\n",
       "      <td>9326.553424</td>\n",
       "      <td>1.562331e+07</td>\n",
       "      <td>1814.065770</td>\n",
       "      <td>3703.459852</td>\n",
       "      <td>0.759168</td>\n",
       "      <td>3.450777</td>\n",
       "      <td>180.0</td>\n",
       "    </tr>\n",
       "    <tr>\n",
       "      <th>11</th>\n",
       "      <td>3.862147</td>\n",
       "      <td>-8.913618</td>\n",
       "      <td>-1.631911</td>\n",
       "      <td>0.130231</td>\n",
       "      <td>2.083705</td>\n",
       "      <td>0.215592</td>\n",
       "      <td>0.041440</td>\n",
       "      <td>0.022318</td>\n",
       "      <td>0.050673</td>\n",
       "      <td>3.217985</td>\n",
       "      <td>...</td>\n",
       "      <td>1159.297859</td>\n",
       "      <td>736.572607</td>\n",
       "      <td>805.457656</td>\n",
       "      <td>8481.740311</td>\n",
       "      <td>1.158101e+07</td>\n",
       "      <td>1508.542646</td>\n",
       "      <td>3199.537699</td>\n",
       "      <td>0.772122</td>\n",
       "      <td>3.713802</td>\n",
       "      <td>136.0</td>\n",
       "    </tr>\n",
       "    <tr>\n",
       "      <th>106</th>\n",
       "      <td>-1.646043</td>\n",
       "      <td>-6.470183</td>\n",
       "      <td>-3.640172</td>\n",
       "      <td>5.911502</td>\n",
       "      <td>2.074375</td>\n",
       "      <td>2.474632</td>\n",
       "      <td>2.730464</td>\n",
       "      <td>1.099797</td>\n",
       "      <td>1.554656</td>\n",
       "      <td>-9.487904</td>\n",
       "      <td>...</td>\n",
       "      <td>544.328254</td>\n",
       "      <td>360.292849</td>\n",
       "      <td>323.625419</td>\n",
       "      <td>3721.806916</td>\n",
       "      <td>2.945374e+06</td>\n",
       "      <td>718.941858</td>\n",
       "      <td>1627.599774</td>\n",
       "      <td>0.520601</td>\n",
       "      <td>3.204321</td>\n",
       "      <td>1084.0</td>\n",
       "    </tr>\n",
       "  </tbody>\n",
       "</table>\n",
       "<p>5 rows × 289 columns</p>\n",
       "</div>"
      ],
      "text/plain": [
       "     mean_acc_x  mean_acc_y  mean_acc_z  std_acc_x  std_acc_y  std_acc_z  \\\n",
       "33     2.766752   -5.620212   -4.253272   1.274890   4.001141   4.968234   \n",
       "192    1.305884   -1.261114    8.433857   2.256954   3.642098   0.563214   \n",
       "144   -6.170257   -7.286478   -1.777548   1.468508   2.360041   1.859090   \n",
       "11     3.862147   -8.913618   -1.631911   0.130231   2.083705   0.215592   \n",
       "106   -1.646043   -6.470183   -3.640172   5.911502   2.074375   2.474632   \n",
       "\n",
       "     mad_acc_x  mad_acc_y  mad_acc_z  min_acc_x      ...        std_mfgy_jerk  \\\n",
       "33    0.861058   2.405195   2.380841  -0.507961      ...          1107.631634   \n",
       "192   0.456413   0.805582   0.290685  -4.297983      ...           612.488971   \n",
       "144   1.004313   1.745025   1.134163 -11.102040      ...          1381.192342   \n",
       "11    0.041440   0.022318   0.050673   3.217985      ...          1159.297859   \n",
       "106   2.730464   1.099797   1.554656  -9.487904      ...           544.328254   \n",
       "\n",
       "     mad_mfgy_jerk  min_mfgy_jerk  max_mfgy_jerk  em_mfgy_jerk  iqr_mfgy_jerk  \\\n",
       "33      787.089329     369.126376    6304.403006  9.413842e+06    1612.245561   \n",
       "192     398.853883     460.164187    4612.493720  3.815453e+06     805.165372   \n",
       "144     877.302842     729.825309    9326.553424  1.562331e+07    1814.065770   \n",
       "11      736.572607     805.457656    8481.740311  1.158101e+07    1508.542646   \n",
       "106     360.292849     323.625419    3721.806916  2.945374e+06     718.941858   \n",
       "\n",
       "     sma_mfgy_jerk  skew_mfgy_jerk  kurt_mfgy_jerk  idx_mfgy_jerk  \n",
       "33     2861.292449        0.311262        2.551548          832.0  \n",
       "192    1854.807227        0.632278        3.786425           22.0  \n",
       "144    3703.459852        0.759168        3.450777          180.0  \n",
       "11     3199.537699        0.772122        3.713802          136.0  \n",
       "106    1627.599774        0.520601        3.204321         1084.0  \n",
       "\n",
       "[5 rows x 289 columns]"
      ]
     },
     "execution_count": 16,
     "metadata": {},
     "output_type": "execute_result"
    }
   ],
   "source": [
    "testing_set_df.to_csv(\"vidushi_288_10sc.csv\")\n",
    "hist_activities(testing_set_df)\n",
    "# plot_act_signals(in_df_ac)\n",
    "\n",
    "combined_testing_df = testing_set_df\n",
    "combined_testing_df = combined_testing_df.iloc[np.random.permutation(len(combined_testing_df))]\n",
    "combined_testing_df.head()"
   ]
  },
  {
   "cell_type": "code",
   "execution_count": 20,
   "metadata": {},
   "outputs": [
    {
     "name": "stdout",
     "output_type": "stream",
     "text": [
      "64 288\n",
      "64\n",
      "(64,)\n",
      "64\n"
     ]
    },
    {
     "name": "stderr",
     "output_type": "stream",
     "text": [
      "/Users/gringotts/anaconda3/lib/python3.6/site-packages/sklearn/utils/validation.py:475: DataConversionWarning: Data with input dtype object was converted to float64 by StandardScaler.\n",
      "  warnings.warn(msg, DataConversionWarning)\n"
     ]
    },
    {
     "data": {
      "text/plain": [
       "[2, 2, 2, 2, 2]"
      ]
     },
     "execution_count": 20,
     "metadata": {},
     "output_type": "execute_result"
    }
   ],
   "source": [
    "testing_data = combined_testing_df[tacc_cols+tacc_jerk_cols+tacc_mag_cols+tacc_jmag_cols+facc_cols+facc_jerk_cols+facc_mag_cols+facc_jmag_cols+tgy_jerk_cols+tgy_mag_cols+tgy_jmag_cols+fgy_cols+fgy_jerk_cols+fgy_mag_cols+fgy_jmag_cols+tgy_cols].as_matrix()\n",
    "testing_targets = testing_data[:, -1]\n",
    "testing_data = testing_data[:, :-1]\n",
    "\n",
    "std_scale = preprocessing.StandardScaler().fit(testing_data)\n",
    "testing_data_std = std_scale.transform(testing_data)\n",
    "\n",
    "print(len(testing_data_std), len(testing_data_std[0]))\n",
    "print(len(testing_targets))\n",
    "\n",
    "cache = {'laying_down' : 0, 'sitting' : 1, 'walking' : 2, 'standing' : 3}\n",
    "testing_targets.reshape(len(testing_targets))\n",
    "print(testing_targets.shape)\n",
    "\n",
    "testing_bin_targets = []\n",
    "for i in testing_targets:\n",
    "    testing_bin_targets.append(cache[i])\n",
    "print(len(testing_bin_targets))\n",
    "\n",
    "testing_bin_targets[: 5]"
   ]
  },
  {
   "cell_type": "code",
   "execution_count": 21,
   "metadata": {
    "collapsed": true
   },
   "outputs": [],
   "source": [
    "model = DecisionTreeClassifier(random_state=0)\n",
    "\n",
    "# Training the model\n",
    "model.fit(training_data, training_bin_targets)\n",
    "\n",
    "# Testing on the testing data\n",
    "predicted_values = model.predict(testing_data)"
   ]
  },
  {
   "cell_type": "code",
   "execution_count": 22,
   "metadata": {},
   "outputs": [
    {
     "name": "stdout",
     "output_type": "stream",
     "text": [
      "Score:  1.0\n"
     ]
    }
   ],
   "source": [
    "acc_score = accuracy_score(testing_bin_targets, predicted_values)\n",
    "print(\"Score: \", acc_score)"
   ]
  },
  {
   "cell_type": "code",
   "execution_count": null,
   "metadata": {
    "collapsed": true
   },
   "outputs": [],
   "source": []
  },
  {
   "cell_type": "code",
   "execution_count": null,
   "metadata": {
    "collapsed": true
   },
   "outputs": [],
   "source": []
  }
 ],
 "metadata": {
  "kernelspec": {
   "display_name": "Python [default]",
   "language": "python",
   "name": "python3"
  },
  "language_info": {
   "codemirror_mode": {
    "name": "ipython",
    "version": 3
   },
   "file_extension": ".py",
   "mimetype": "text/x-python",
   "name": "python",
   "nbconvert_exporter": "python",
   "pygments_lexer": "ipython3",
   "version": "3.5.2"
  }
 },
 "nbformat": 4,
 "nbformat_minor": 2
}
