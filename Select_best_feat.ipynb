{
 "cells": [
  {
   "cell_type": "code",
   "execution_count": 2,
   "metadata": {},
   "outputs": [],
   "source": [
    "import pandas as pd\n",
    "import numpy as np\n",
    "from sklearn.ensemble import ExtraTreesClassifier"
   ]
  },
  {
   "cell_type": "code",
   "execution_count": 3,
   "metadata": {},
   "outputs": [],
   "source": [
    "def clean_dataset(df):\n",
    "    assert isinstance(df, pd.DataFrame), \"df needs to be a pd.DataFrame\"\n",
    "    df.dropna(inplace=True)\n",
    "    indices_to_keep = ~df.isin([np.nan, np.inf, -np.inf]).any(1)\n",
    "    return df[indices_to_keep]"
   ]
  },
  {
   "cell_type": "code",
   "execution_count": 4,
   "metadata": {},
   "outputs": [],
   "source": [
    "train_data = pd.read_csv(\"10sec_smooth_cropped_288feat.csv\",index_col = 0)\n",
    "train_data = clean_dataset(train_data)\n",
    "train_data_shuffled = train_data.iloc[np.random.permutation(len(train_data))]\n"
   ]
  },
  {
   "cell_type": "code",
   "execution_count": 7,
   "metadata": {},
   "outputs": [
    {
     "name": "stdout",
     "output_type": "stream",
     "text": [
      "(3934, 289)\n",
      "(3934, 288)\n",
      "[0.03654173 0.04618197 0.00688974 0.00104264 0.00033469]\n",
      "[0.03654173 0.04618197 0.00688974 0.00104264 0.00033469]\n",
      "[0.03654173 0.03763104 0.03789311 0.03863896 0.04618197]\n",
      "[0, 1, 2, 5, 6]\n",
      "60\n",
      "288\n",
      "['mean_acc_x', 'mean_acc_y', 'mean_acc_z', 'std_acc_z', 'mad_acc_x', 'min_acc_x', 'min_acc_y', 'max_acc_x', 'max_acc_y', 'max_acc_z', 'em_acc_x', 'em_acc_y', 'em_acc_z', 'sma_acc', 'mean_macc', 'std_macc', 'mad_macc', 'max_macc', 'em_macc', 'iqr_macc', 'sma_macc', 'std_accj_z', 'mad_accj_x', 'iqr_accj_y', 'mean_macc_jerk', 'min_macc_jerk', 'iqr_macc_jerk', 'sma_macc_jerk', 'skew_mfacc', 'mean_faccj_y', 'mad_faccj_y', 'min_faccj_y', 'max_faccj_y', 'max_faccj_z', 'em_faccj_y', 'iqr_faccj_y', 'mean_mfacc_jerk', 'mad_mfacc_jerk', 'max_mfacc_jerk', 'mad_gy_x', 'mad_gy_y', 'mad_gy_z', 'min_gy_x', 'min_gy_z', 'em_gy_z', 'iqr_gy_x', 'iqr_gy_y', 'iqr_gy_z', 'sma_gy', 'mean_mgy', 'mad_mgy', 'mad_gyj_y', 'mad_gyj_z', 'iqr_gyj_y', 'sma_gyj', 'mad_mgy_jerk', 'min_mgy_jerk', 'skew_fgy_x', 'skew_mfgy', 'skew_fgyj_z']\n"
     ]
    }
   ],
   "source": [
    "train_features_s = train_data_shuffled.copy()\n",
    "print(train_features_s.shape)\n",
    "train_labels_s = train_features_s[\"label\"]\n",
    "train_features_s = train_features_s.drop([\"label\"], axis = 1)\n",
    "print(train_features_s.shape)\n",
    "\n",
    "fs = ExtraTreesClassifier(random_state = 0)\n",
    "fs.fit(train_features_s,train_labels_s)\n",
    "\n",
    "feat_imps = fs.feature_importances_\n",
    "print(feat_imps[:5])\n",
    "sorted_feat_imps = np.sort(feat_imps)\n",
    "print(feat_imps[:5])\n",
    "print(sorted_feat_imps[-5:])\n",
    "\n",
    "col_indices = [i for i, j in enumerate(feat_imps) if j in sorted_feat_imps[-60:]]\n",
    "\n",
    "print(col_indices[:5])\n",
    "\n",
    "print(len(col_indices))\n",
    "\n",
    "cols = train_features_s.columns\n",
    "print(len(cols))\n",
    "imp_cols = [col for i,col in enumerate(cols) if i in col_indices]\n",
    "\n",
    "print(imp_cols)"
   ]
  },
  {
   "cell_type": "code",
   "execution_count": null,
   "metadata": {},
   "outputs": [],
   "source": []
  }
 ],
 "metadata": {
  "kernelspec": {
   "display_name": "Python [default]",
   "language": "python",
   "name": "python3"
  },
  "language_info": {
   "codemirror_mode": {
    "name": "ipython",
    "version": 3
   },
   "file_extension": ".py",
   "mimetype": "text/x-python",
   "name": "python",
   "nbconvert_exporter": "python",
   "pygments_lexer": "ipython3",
   "version": "3.5.2"
  }
 },
 "nbformat": 4,
 "nbformat_minor": 2
}
