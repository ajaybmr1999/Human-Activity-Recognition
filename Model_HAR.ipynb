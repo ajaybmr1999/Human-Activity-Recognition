{
 "cells": [
  {
   "cell_type": "code",
   "execution_count": 79,
   "metadata": {},
   "outputs": [
    {
     "name": "stdout",
     "output_type": "stream",
     "text": [
      "1521179667.6731534\n",
      "1521179667.678168\n"
     ]
    }
   ],
   "source": [
    "import time\n",
    "print(time.time())\n",
    "import pandas as pd\n",
    "import numpy as np\n",
    "import os\n",
    "import itertools\n",
    "\n",
    "from sklearn.model_selection import GridSearchCV\n",
    "\n",
    "from sklearn import preprocessing\n",
    "from sklearn.model_selection import cross_val_score\n",
    "import math\n",
    "from scipy.stats import iqr\n",
    "from numpy import linalg\n",
    "import matplotlib.pyplot as plt\n",
    "print(time.time())\n",
    "from scipy import stats\n",
    "\n",
    "#feature selection\n",
    "from sklearn.ensemble import ExtraTreesClassifier\n",
    "\n",
    "#label encoder\n",
    "from sklearn.preprocessing import LabelEncoder\n",
    "from sklearn.preprocessing import label_binarize\n",
    "\n",
    "#Feature Normalisation\n",
    "from sklearn.preprocessing import StandardScaler\n",
    "\n",
    "#Feature Extraction\n",
    "from sklearn.decomposition import PCA\n",
    "from sklearn.decomposition import NMF\n",
    "from sklearn.decomposition import TruncatedSVD\n",
    "\n",
    "\n",
    "\n",
    "#supervised\n",
    "from sklearn.tree import DecisionTreeClassifier\n",
    "from sklearn.ensemble import RandomForestClassifier\n",
    "from sklearn import svm\n",
    "from sklearn.neural_network import MLPClassifier\n",
    "from xgboost.sklearn import XGBClassifier\n",
    "from sklearn.linear_model import LogisticRegression\n",
    "from sklearn.naive_bayes import GaussianNB\n",
    "from sklearn.neighbors import KNeighborsClassifier\n",
    "from sklearn.multiclass import OneVsOneClassifier\n",
    "from sklearn.multiclass import OneVsRestClassifier\n",
    "\n",
    "#metrics\n",
    "from sklearn.metrics import accuracy_score\n",
    "from sklearn.metrics import average_precision_score\n",
    "from sklearn.metrics import classification_report\n",
    "from sklearn.metrics import confusion_matrix\n",
    "from sklearn.metrics import precision_score\n",
    "from sklearn.metrics import recall_score\n",
    "from sklearn.metrics import precision_recall_curve,roc_curve\n",
    "from sklearn.metrics import auc\n",
    "import _pickle as pickle"
   ]
  },
  {
   "cell_type": "code",
   "execution_count": 80,
   "metadata": {},
   "outputs": [],
   "source": [
    "def plot_confusion_matrix(cm, classes,\n",
    "                          normalize=False,\n",
    "                          title='Confusion matrix',\n",
    "                          cmap=plt.cm.Blues):\n",
    "    \"\"\"\n",
    "    This function prints and plots the confusion matrix.\n",
    "    Normalization can be applied by setting `normalize=True`.\n",
    "    \"\"\"\n",
    "    if normalize:\n",
    "        cm = cm.astype('float') / cm.sum(axis=1)[:, np.newaxis]\n",
    "        print(\"Normalized confusion matrix\")\n",
    "    else:\n",
    "        print('Confusion matrix, without normalization')\n",
    "\n",
    "    print(cm)\n",
    "\n",
    "    plt.imshow(cm, interpolation='nearest', cmap=cmap)\n",
    "    plt.title(title)\n",
    "    plt.colorbar()\n",
    "    tick_marks = np.arange(len(classes))\n",
    "    plt.xticks(tick_marks, classes, rotation=45)\n",
    "    plt.yticks(tick_marks, classes)\n",
    "\n",
    "    fmt = '.2f' if normalize else 'd'\n",
    "    thresh = cm.max() / 2.\n",
    "    for i, j in itertools.product(range(cm.shape[0]), range(cm.shape[1])):\n",
    "        plt.text(j, i, format(cm[i, j], fmt),\n",
    "                 horizontalalignment=\"center\",\n",
    "                 color=\"white\" if cm[i, j] > thresh else \"black\")\n",
    "\n",
    "    plt.tight_layout()\n",
    "    plt.ylabel('True label')\n",
    "    plt.xlabel('Predicted label')\n",
    "\n",
    "    plt.show()"
   ]
  },
  {
   "cell_type": "code",
   "execution_count": 81,
   "metadata": {},
   "outputs": [],
   "source": [
    "def clean_dataset(df):\n",
    "    assert isinstance(df, pd.DataFrame), \"df needs to be a pd.DataFrame\"\n",
    "    df.dropna(inplace=True)\n",
    "    indices_to_keep = ~df.isin([np.nan, np.inf, -np.inf]).any(1)\n",
    "    return df[indices_to_keep]"
   ]
  },
  {
   "cell_type": "code",
   "execution_count": 82,
   "metadata": {},
   "outputs": [
    {
     "name": "stdout",
     "output_type": "stream",
     "text": [
      "(6543, 40)\n"
     ]
    }
   ],
   "source": [
    "train_data = pd.read_csv(\"5sec_smooth_cropped_38_best_feat.csv\",index_col = 0)\n",
    "\n",
    "print(train_data.shape)"
   ]
  },
  {
   "cell_type": "code",
   "execution_count": 83,
   "metadata": {},
   "outputs": [
    {
     "data": {
      "text/html": [
       "<div>\n",
       "<table border=\"1\" class=\"dataframe\">\n",
       "  <thead>\n",
       "    <tr style=\"text-align: right;\">\n",
       "      <th></th>\n",
       "      <th>mean_acc_x</th>\n",
       "      <th>mean_acc_y</th>\n",
       "      <th>mean_acc_z</th>\n",
       "      <th>std_acc_z</th>\n",
       "      <th>mad_acc_x</th>\n",
       "      <th>min_acc_x</th>\n",
       "      <th>min_acc_y</th>\n",
       "      <th>max_acc_x</th>\n",
       "      <th>max_acc_y</th>\n",
       "      <th>max_acc_z</th>\n",
       "      <th>...</th>\n",
       "      <th>mad_mfacc_jerk</th>\n",
       "      <th>max_mfacc_jerk</th>\n",
       "      <th>mean_macc</th>\n",
       "      <th>std_macc</th>\n",
       "      <th>mad_macc</th>\n",
       "      <th>max_macc</th>\n",
       "      <th>em_macc</th>\n",
       "      <th>iqr_macc</th>\n",
       "      <th>sma_macc</th>\n",
       "      <th>label</th>\n",
       "    </tr>\n",
       "  </thead>\n",
       "  <tbody>\n",
       "    <tr>\n",
       "      <th>0</th>\n",
       "      <td>-1.339722</td>\n",
       "      <td>-3.476718</td>\n",
       "      <td>8.732722</td>\n",
       "      <td>1.265379</td>\n",
       "      <td>0.153846</td>\n",
       "      <td>-3.617904</td>\n",
       "      <td>-12.087901</td>\n",
       "      <td>1.604397</td>\n",
       "      <td>1.173643</td>\n",
       "      <td>14.510912</td>\n",
       "      <td>...</td>\n",
       "      <td>3212.522649</td>\n",
       "      <td>27940.523324</td>\n",
       "      <td>9.688410</td>\n",
       "      <td>1.017775</td>\n",
       "      <td>0.079896</td>\n",
       "      <td>17.056087</td>\n",
       "      <td>94.901163</td>\n",
       "      <td>0.165016</td>\n",
       "      <td>9.688410</td>\n",
       "      <td>sitting</td>\n",
       "    </tr>\n",
       "    <tr>\n",
       "      <th>1</th>\n",
       "      <td>-1.892818</td>\n",
       "      <td>-3.044553</td>\n",
       "      <td>8.950002</td>\n",
       "      <td>0.077371</td>\n",
       "      <td>0.062704</td>\n",
       "      <td>-2.179921</td>\n",
       "      <td>-3.478221</td>\n",
       "      <td>-1.655746</td>\n",
       "      <td>-2.611153</td>\n",
       "      <td>9.139097</td>\n",
       "      <td>...</td>\n",
       "      <td>3283.264733</td>\n",
       "      <td>29429.865300</td>\n",
       "      <td>9.643841</td>\n",
       "      <td>0.054694</td>\n",
       "      <td>0.034248</td>\n",
       "      <td>9.804784</td>\n",
       "      <td>93.006651</td>\n",
       "      <td>0.068135</td>\n",
       "      <td>9.643841</td>\n",
       "      <td>sitting</td>\n",
       "    </tr>\n",
       "    <tr>\n",
       "      <th>2</th>\n",
       "      <td>-1.823438</td>\n",
       "      <td>-3.192150</td>\n",
       "      <td>8.924490</td>\n",
       "      <td>0.060596</td>\n",
       "      <td>0.032677</td>\n",
       "      <td>-2.121877</td>\n",
       "      <td>-3.454627</td>\n",
       "      <td>-1.672819</td>\n",
       "      <td>-2.951709</td>\n",
       "      <td>9.106545</td>\n",
       "      <td>...</td>\n",
       "      <td>3233.340381</td>\n",
       "      <td>33595.945594</td>\n",
       "      <td>9.652677</td>\n",
       "      <td>0.046713</td>\n",
       "      <td>0.024758</td>\n",
       "      <td>9.804784</td>\n",
       "      <td>93.176360</td>\n",
       "      <td>0.049229</td>\n",
       "      <td>9.652677</td>\n",
       "      <td>sitting</td>\n",
       "    </tr>\n",
       "    <tr>\n",
       "      <th>3</th>\n",
       "      <td>-1.873861</td>\n",
       "      <td>-2.878490</td>\n",
       "      <td>8.338558</td>\n",
       "      <td>3.278953</td>\n",
       "      <td>0.046989</td>\n",
       "      <td>-2.858703</td>\n",
       "      <td>-3.377095</td>\n",
       "      <td>-1.672819</td>\n",
       "      <td>-1.695607</td>\n",
       "      <td>9.198854</td>\n",
       "      <td>...</td>\n",
       "      <td>3306.549242</td>\n",
       "      <td>35149.614275</td>\n",
       "      <td>9.593202</td>\n",
       "      <td>0.443135</td>\n",
       "      <td>0.031136</td>\n",
       "      <td>9.763954</td>\n",
       "      <td>92.225891</td>\n",
       "      <td>0.063242</td>\n",
       "      <td>9.593202</td>\n",
       "      <td>sitting</td>\n",
       "    </tr>\n",
       "    <tr>\n",
       "      <th>4</th>\n",
       "      <td>-1.856301</td>\n",
       "      <td>-2.573843</td>\n",
       "      <td>8.803868</td>\n",
       "      <td>2.199987</td>\n",
       "      <td>0.055864</td>\n",
       "      <td>-2.857922</td>\n",
       "      <td>-3.104704</td>\n",
       "      <td>-1.600225</td>\n",
       "      <td>-1.695607</td>\n",
       "      <td>9.284430</td>\n",
       "      <td>...</td>\n",
       "      <td>3326.350518</td>\n",
       "      <td>35149.614275</td>\n",
       "      <td>9.611132</td>\n",
       "      <td>0.308495</td>\n",
       "      <td>0.034550</td>\n",
       "      <td>9.788829</td>\n",
       "      <td>92.469032</td>\n",
       "      <td>0.069095</td>\n",
       "      <td>9.611132</td>\n",
       "      <td>sitting</td>\n",
       "    </tr>\n",
       "  </tbody>\n",
       "</table>\n",
       "<p>5 rows × 40 columns</p>\n",
       "</div>"
      ],
      "text/plain": [
       "   mean_acc_x  mean_acc_y  mean_acc_z  std_acc_z  mad_acc_x  min_acc_x  \\\n",
       "0   -1.339722   -3.476718    8.732722   1.265379   0.153846  -3.617904   \n",
       "1   -1.892818   -3.044553    8.950002   0.077371   0.062704  -2.179921   \n",
       "2   -1.823438   -3.192150    8.924490   0.060596   0.032677  -2.121877   \n",
       "3   -1.873861   -2.878490    8.338558   3.278953   0.046989  -2.858703   \n",
       "4   -1.856301   -2.573843    8.803868   2.199987   0.055864  -2.857922   \n",
       "\n",
       "   min_acc_y  max_acc_x  max_acc_y  max_acc_z   ...     mad_mfacc_jerk  \\\n",
       "0 -12.087901   1.604397   1.173643  14.510912   ...        3212.522649   \n",
       "1  -3.478221  -1.655746  -2.611153   9.139097   ...        3283.264733   \n",
       "2  -3.454627  -1.672819  -2.951709   9.106545   ...        3233.340381   \n",
       "3  -3.377095  -1.672819  -1.695607   9.198854   ...        3306.549242   \n",
       "4  -3.104704  -1.600225  -1.695607   9.284430   ...        3326.350518   \n",
       "\n",
       "   max_mfacc_jerk  mean_macc  std_macc  mad_macc   max_macc    em_macc  \\\n",
       "0    27940.523324   9.688410  1.017775  0.079896  17.056087  94.901163   \n",
       "1    29429.865300   9.643841  0.054694  0.034248   9.804784  93.006651   \n",
       "2    33595.945594   9.652677  0.046713  0.024758   9.804784  93.176360   \n",
       "3    35149.614275   9.593202  0.443135  0.031136   9.763954  92.225891   \n",
       "4    35149.614275   9.611132  0.308495  0.034550   9.788829  92.469032   \n",
       "\n",
       "   iqr_macc  sma_macc    label  \n",
       "0  0.165016  9.688410  sitting  \n",
       "1  0.068135  9.643841  sitting  \n",
       "2  0.049229  9.652677  sitting  \n",
       "3  0.063242  9.593202  sitting  \n",
       "4  0.069095  9.611132  sitting  \n",
       "\n",
       "[5 rows x 40 columns]"
      ]
     },
     "execution_count": 83,
     "metadata": {},
     "output_type": "execute_result"
    }
   ],
   "source": [
    "train_data.head()"
   ]
  },
  {
   "cell_type": "code",
   "execution_count": 84,
   "metadata": {},
   "outputs": [],
   "source": [
    "train_data = clean_dataset(train_data)"
   ]
  },
  {
   "cell_type": "code",
   "execution_count": 85,
   "metadata": {},
   "outputs": [
    {
     "data": {
      "text/plain": [
       "(6543, 40)"
      ]
     },
     "execution_count": 85,
     "metadata": {},
     "output_type": "execute_result"
    }
   ],
   "source": [
    "train_data.shape"
   ]
  },
  {
   "cell_type": "code",
   "execution_count": 86,
   "metadata": {},
   "outputs": [],
   "source": [
    "train_data_shuffled = train_data.iloc[np.random.permutation(len(train_data))]"
   ]
  },
  {
   "cell_type": "code",
   "execution_count": 87,
   "metadata": {},
   "outputs": [
    {
     "name": "stdout",
     "output_type": "stream",
     "text": [
      "(6543, 40)\n",
      "(6543, 39)\n"
     ]
    }
   ],
   "source": [
    "train_features_s = train_data_shuffled.copy()\n",
    "print(train_features_s.shape)\n",
    "train_labels_s = train_features_s[\"label\"]\n",
    "train_features_s = train_features_s.drop([\"label\"], axis = 1)\n",
    "print(train_features_s.shape)"
   ]
  },
  {
   "cell_type": "code",
   "execution_count": 88,
   "metadata": {},
   "outputs": [
    {
     "name": "stdout",
     "output_type": "stream",
     "text": [
      "3303     sitting\n",
      "614     standing\n",
      "5135     walking\n",
      "1082     sitting\n",
      "950      walking\n",
      "Name: label, dtype: object\n",
      "[1 2 3 1 3]\n"
     ]
    }
   ],
   "source": [
    "le_s = LabelEncoder()\n",
    "print(train_labels_s[0:5])\n",
    "train_labels_s = le_s.fit_transform(train_labels_s)\n",
    "print(train_labels_s[0:5])"
   ]
  },
  {
   "cell_type": "code",
   "execution_count": 89,
   "metadata": {},
   "outputs": [
    {
     "name": "stdout",
     "output_type": "stream",
     "text": [
      "(6543, 39)\n",
      "(6543, 39)\n"
     ]
    }
   ],
   "source": [
    "std_scale_s = StandardScaler()\n",
    "print(train_features_s.shape)\n",
    "train_features_s = std_scale_s.fit_transform(train_features_s)\n",
    "print(train_features_s.shape)"
   ]
  },
  {
   "cell_type": "code",
   "execution_count": 90,
   "metadata": {},
   "outputs": [
    {
     "name": "stdout",
     "output_type": "stream",
     "text": [
      "Decision Tree\n",
      "0.9503323820377435\n",
      "Random Forest\n",
      "0.9695808039330581\n",
      "Svm\n",
      "0.9362738881017361\n",
      "MLP\n",
      "0.9706523089860948\n",
      "Xgboost\n"
     ]
    },
    {
     "name": "stderr",
     "output_type": "stream",
     "text": [
      "d:\\anaconda\\lib\\site-packages\\sklearn\\preprocessing\\label.py:151: DeprecationWarning: The truth value of an empty array is ambiguous. Returning False, but in future this will result in an error. Use `array.size > 0` to check that an array is not empty.\n",
      "  if diff:\n",
      "d:\\anaconda\\lib\\site-packages\\sklearn\\preprocessing\\label.py:151: DeprecationWarning: The truth value of an empty array is ambiguous. Returning False, but in future this will result in an error. Use `array.size > 0` to check that an array is not empty.\n",
      "  if diff:\n",
      "d:\\anaconda\\lib\\site-packages\\sklearn\\preprocessing\\label.py:151: DeprecationWarning: The truth value of an empty array is ambiguous. Returning False, but in future this will result in an error. Use `array.size > 0` to check that an array is not empty.\n",
      "  if diff:\n",
      "d:\\anaconda\\lib\\site-packages\\sklearn\\preprocessing\\label.py:151: DeprecationWarning: The truth value of an empty array is ambiguous. Returning False, but in future this will result in an error. Use `array.size > 0` to check that an array is not empty.\n",
      "  if diff:\n",
      "d:\\anaconda\\lib\\site-packages\\sklearn\\preprocessing\\label.py:151: DeprecationWarning: The truth value of an empty array is ambiguous. Returning False, but in future this will result in an error. Use `array.size > 0` to check that an array is not empty.\n",
      "  if diff:\n",
      "d:\\anaconda\\lib\\site-packages\\sklearn\\preprocessing\\label.py:151: DeprecationWarning: The truth value of an empty array is ambiguous. Returning False, but in future this will result in an error. Use `array.size > 0` to check that an array is not empty.\n",
      "  if diff:\n",
      "d:\\anaconda\\lib\\site-packages\\sklearn\\preprocessing\\label.py:151: DeprecationWarning: The truth value of an empty array is ambiguous. Returning False, but in future this will result in an error. Use `array.size > 0` to check that an array is not empty.\n",
      "  if diff:\n",
      "d:\\anaconda\\lib\\site-packages\\sklearn\\preprocessing\\label.py:151: DeprecationWarning: The truth value of an empty array is ambiguous. Returning False, but in future this will result in an error. Use `array.size > 0` to check that an array is not empty.\n",
      "  if diff:\n",
      "d:\\anaconda\\lib\\site-packages\\sklearn\\preprocessing\\label.py:151: DeprecationWarning: The truth value of an empty array is ambiguous. Returning False, but in future this will result in an error. Use `array.size > 0` to check that an array is not empty.\n",
      "  if diff:\n",
      "d:\\anaconda\\lib\\site-packages\\sklearn\\preprocessing\\label.py:151: DeprecationWarning: The truth value of an empty array is ambiguous. Returning False, but in future this will result in an error. Use `array.size > 0` to check that an array is not empty.\n",
      "  if diff:\n"
     ]
    },
    {
     "name": "stdout",
     "output_type": "stream",
     "text": [
      "0.9639312215379439\n",
      "LogisticReg\n",
      "0.9015758900722723\n",
      "GaussianNB\n",
      "0.7954999280605527\n",
      "KNN\n",
      "0.9642325943365109\n"
     ]
    }
   ],
   "source": [
    "models = [\"Decision Tree\", \"Random Forest\", \"Svm\", \"MLP\", \"Xgboost\", \"LogisticReg\", \"GaussianNB\", \"KNN\"]\n",
    "for model in models:\n",
    "    print(model)\n",
    "    if model == \"Decision Tree\":\n",
    "        clf = DecisionTreeClassifier()\n",
    "    if model == \"Random Forest\":\n",
    "        clf = RandomForestClassifier()\n",
    "    if model == \"Svm\":\n",
    "        clf = svm.SVC()\n",
    "    if model == \"MLP\":\n",
    "        clf = MLPClassifier()\n",
    "    if model == \"Xgboost\":\n",
    "        clf = XGBClassifier()\n",
    "    if model == \"LogisticReg\":\n",
    "        clf = LogisticRegression()\n",
    "    if model == \"GaussianNB\":\n",
    "        clf = GaussianNB()\n",
    "    if model == \"KNN\":\n",
    "        clf = KNeighborsClassifier()\n",
    "\n",
    "            \n",
    "    mean_cv_score = np.mean(cross_val_score(clf,train_features_s,train_labels_s,cv = 10))\n",
    "    print(mean_cv_score)"
   ]
  },
  {
   "cell_type": "markdown",
   "metadata": {},
   "source": [
    "# Test set formation"
   ]
  },
  {
   "cell_type": "code",
   "execution_count": 94,
   "metadata": {},
   "outputs": [
    {
     "name": "stdout",
     "output_type": "stream",
     "text": [
      "(492, 40)\n"
     ]
    }
   ],
   "source": [
    "test_data = pd.read_csv(\"5sec_smooth_cropped_38_best_feat_test_vid.csv\",index_col = 0)\n",
    "\n",
    "print(test_data.shape)"
   ]
  },
  {
   "cell_type": "code",
   "execution_count": 95,
   "metadata": {},
   "outputs": [
    {
     "name": "stdout",
     "output_type": "stream",
     "text": [
      "(492, 40)\n",
      "(492, 39)\n"
     ]
    }
   ],
   "source": [
    "test_features = test_data.copy()\n",
    "print(test_features.shape)\n",
    "test_labels = test_features[\"label\"]\n",
    "test_features = test_features.drop([\"label\"], axis = 1)\n",
    "print(test_features.shape)"
   ]
  },
  {
   "cell_type": "code",
   "execution_count": 96,
   "metadata": {},
   "outputs": [
    {
     "name": "stdout",
     "output_type": "stream",
     "text": [
      "0    sitting\n",
      "1    sitting\n",
      "2    sitting\n",
      "3    sitting\n",
      "4    sitting\n",
      "Name: label, dtype: object\n",
      "[1 1 1 1 1]\n"
     ]
    }
   ],
   "source": [
    "print(test_labels[0:5])\n",
    "test_labels = le_s.transform(test_labels)\n",
    "print(test_labels[0:5])"
   ]
  },
  {
   "cell_type": "code",
   "execution_count": 97,
   "metadata": {},
   "outputs": [
    {
     "name": "stdout",
     "output_type": "stream",
     "text": [
      "(492, 39)\n",
      "(492, 39)\n"
     ]
    }
   ],
   "source": [
    "print(test_features.shape)\n",
    "test_features = std_scale_s.transform(test_features)\n",
    "print(test_features.shape)"
   ]
  },
  {
   "cell_type": "code",
   "execution_count": 101,
   "metadata": {},
   "outputs": [
    {
     "name": "stdout",
     "output_type": "stream",
     "text": [
      "Decision Tree\n",
      "0.4491869918699187\n",
      "Random Forest\n",
      "0.483739837398374\n",
      "Svm\n",
      "0.5386178861788617\n",
      "MLP\n",
      "0.42073170731707316\n",
      "Xgboost\n"
     ]
    },
    {
     "name": "stderr",
     "output_type": "stream",
     "text": [
      "d:\\anaconda\\lib\\site-packages\\sklearn\\preprocessing\\label.py:151: DeprecationWarning: The truth value of an empty array is ambiguous. Returning False, but in future this will result in an error. Use `array.size > 0` to check that an array is not empty.\n",
      "  if diff:\n"
     ]
    },
    {
     "name": "stdout",
     "output_type": "stream",
     "text": [
      "0.42276422764227645\n",
      "LogisticReg\n",
      "0.4451219512195122\n",
      "GaussianNB\n",
      "0.4532520325203252\n",
      "KNN\n",
      "0.4715447154471545\n"
     ]
    }
   ],
   "source": [
    "for model in models:\n",
    "    print(model)\n",
    "    if model == \"Decision Tree\":\n",
    "        clf = DecisionTreeClassifier()\n",
    "    if model == \"Random Forest\":\n",
    "        clf = RandomForestClassifier()\n",
    "    if model == \"Svm\":\n",
    "        clf = svm.SVC()\n",
    "    if model == \"MLP\":\n",
    "        clf = MLPClassifier()\n",
    "    if model == \"Xgboost\":\n",
    "        clf = XGBClassifier()\n",
    "    if model == \"LogisticReg\":\n",
    "        clf = LogisticRegression()\n",
    "    if model == \"GaussianNB\":\n",
    "        clf = GaussianNB()\n",
    "    if model == \"KNN\":\n",
    "        clf = KNeighborsClassifier()\n",
    "\n",
    "    clf.fit(train_features_s,train_labels_s)\n",
    "    preds = clf.predict(test_features)\n",
    "    mean_cv_score = accuracy_score(test_labels,preds)\n",
    "    print(mean_cv_score)"
   ]
  },
  {
   "cell_type": "markdown",
   "metadata": {},
   "source": [
    "# Grid Search "
   ]
  },
  {
   "cell_type": "code",
   "execution_count": 16,
   "metadata": {},
   "outputs": [],
   "source": [
    "def evaluate(model, test_features, test_labels):\n",
    "    predictions = model.predict(test_features)\n",
    "    errors = abs(predictions - test_labels)\n",
    "    mape = 100 * np.mean(errors / test_labels)\n",
    "    accuracy = accuracy_score(test_labels,predictions)\n",
    "    print('Model Performance')\n",
    "    print('Average Error: {:0.4f} degrees.'.format(np.mean(errors)))\n",
    "    print('Accuracy = {:0.2f}%.'.format(accuracy))\n",
    "    \n",
    "    return accuracy"
   ]
  },
  {
   "cell_type": "code",
   "execution_count": 99,
   "metadata": {},
   "outputs": [
    {
     "name": "stdout",
     "output_type": "stream",
     "text": [
      "Doing Grid Search for DTree\n",
      "0.4186991869918699\n",
      "1 0.42886178861788615\n",
      "2 0.5447154471544715\n",
      "Doing Grid Search for KNN\n",
      "0.4715447154471545\n",
      "9 0.47764227642276424\n",
      "11 0.483739837398374\n",
      "14 0.5060975609756098\n",
      "15 0.5264227642276422\n",
      "16 0.5304878048780488\n",
      "17 0.5447154471544715\n",
      "25 0.5467479674796748\n",
      "29 0.5508130081300813\n",
      "31 0.5528455284552846\n",
      "33 0.5589430894308943\n",
      "36 0.5630081300813008\n",
      "101 0.5650406504065041\n",
      "105 0.5670731707317073\n",
      "109 0.5691056910569106\n",
      "133 0.5711382113821138\n",
      "141 0.573170731707317\n",
      "142 0.5772357723577236\n",
      "144 0.5813008130081301\n",
      "173 0.5833333333333334\n",
      "189 0.5853658536585366\n",
      "236 0.5873983739837398\n",
      "238 0.5894308943089431\n",
      "253 0.5914634146341463\n",
      "254 0.5955284552845529\n",
      "295 0.5975609756097561\n",
      "301 0.5995934959349594\n",
      "327 0.6016260162601627\n"
     ]
    }
   ],
   "source": [
    "for model in [\"DTree\",\"KNN\"]:\n",
    "    print(\"Doing Grid Search for \" + model)\n",
    "    if model == \"DTree\":\n",
    "        clf = DecisionTreeClassifier(random_state = 0)\n",
    "        clf.fit(train_features_s,train_labels_s)\n",
    "        preds = clf.predict(test_features)\n",
    "        print(accuracy_score(test_labels,preds))\n",
    "        best_accuracy = accuracy_score(test_labels,preds)\n",
    "        \n",
    "        for max_features in range(1,39):\n",
    "            clf = DecisionTreeClassifier(max_features = max_features, random_state = 0)\n",
    "            clf.fit(train_features_s,train_labels_s)\n",
    "            preds = clf.predict(test_features)\n",
    "            acc = accuracy_score(test_labels,preds)\n",
    "            if acc > best_accuracy:\n",
    "                print(str(max_features) + \" \" +  str(acc))\n",
    "                best_accuracy = acc\n",
    "    if model == \"KNN\":\n",
    "        clf = KNeighborsClassifier()\n",
    "        clf.fit(train_features_s,train_labels_s)\n",
    "        preds = clf.predict(test_features)\n",
    "        print(accuracy_score(test_labels,preds))\n",
    "        best_accuracy = accuracy_score(test_labels,preds)\n",
    "        \n",
    "        for n_neighbors in range(1,500):\n",
    "            clf = KNeighborsClassifier(n_neighbors = n_neighbors)\n",
    "            clf.fit(train_features_s,train_labels_s)\n",
    "            preds = clf.predict(test_features)\n",
    "            acc = accuracy_score(test_labels,preds)\n",
    "            if acc > best_accuracy:\n",
    "                print(str(n_neighbors) + \" \" +  str(acc))\n",
    "                best_accuracy = acc\n",
    "    \n",
    "        \n",
    "        \n",
    "        \n",
    "        \n",
    "        "
   ]
  },
  {
   "cell_type": "code",
   "execution_count": 102,
   "metadata": {},
   "outputs": [
    {
     "name": "stdout",
     "output_type": "stream",
     "text": [
      "0.6016260162601627\n"
     ]
    }
   ],
   "source": [
    "clf = KNeighborsClassifier(n_neighbors = 327)\n",
    "clf.fit(train_features_s,train_labels_s)\n",
    "preds = clf.predict(test_features)\n",
    "print(accuracy_score(test_labels,preds))"
   ]
  },
  {
   "cell_type": "code",
   "execution_count": 104,
   "metadata": {},
   "outputs": [],
   "source": [
    "pickle.dump(clf, open(\"best_model_39feat.pkl\",\"wb\"))\n"
   ]
  },
  {
   "cell_type": "code",
   "execution_count": 105,
   "metadata": {},
   "outputs": [],
   "source": [
    "pickle.dump(le_s, open(\"label_encoder_39feat.pkl\",\"wb\"))\n",
    "pickle.dump(std_scale_s, open(\"standard_scaler_39feat.pkl\",\"wb\"))"
   ]
  },
  {
   "cell_type": "markdown",
   "metadata": {},
   "source": [
    "# Repeating for 10 sec window data shuffled and cropped"
   ]
  },
  {
   "cell_type": "code",
   "execution_count": 17,
   "metadata": {},
   "outputs": [
    {
     "name": "stdout",
     "output_type": "stream",
     "text": [
      "(3934, 289)\n"
     ]
    }
   ],
   "source": [
    "smooth_train_data = pd.read_csv(\"10sec_smooth_cropped_288feat.csv\",index_col = 0)\n",
    "\n",
    "print(smooth_train_data.shape)"
   ]
  },
  {
   "cell_type": "code",
   "execution_count": 18,
   "metadata": {},
   "outputs": [],
   "source": [
    "smooth_train_data_shuffled = smooth_train_data.iloc[np.random.permutation(len(smooth_train_data))]"
   ]
  },
  {
   "cell_type": "code",
   "execution_count": 19,
   "metadata": {},
   "outputs": [
    {
     "name": "stdout",
     "output_type": "stream",
     "text": [
      "(3934, 289)\n",
      "(3934, 288)\n"
     ]
    }
   ],
   "source": [
    "smooth_train_data_shuffled = clean_dataset(smooth_train_data_shuffled)\n",
    "smooth_train_features_s = smooth_train_data_shuffled.copy()\n",
    "print(smooth_train_features_s.shape)\n",
    "smooth_train_labels_s = smooth_train_features_s[\"label\"]\n",
    "smooth_train_features_s = smooth_train_features_s.drop([\"label\"], axis = 1)\n",
    "print(smooth_train_features_s.shape)"
   ]
  },
  {
   "cell_type": "code",
   "execution_count": 20,
   "metadata": {},
   "outputs": [
    {
     "name": "stdout",
     "output_type": "stream",
     "text": [
      "1345       standing\n",
      "115     laying_down\n",
      "730     laying_down\n",
      "3837        walking\n",
      "3752        sitting\n",
      "Name: label, dtype: object\n",
      "[2 0 0 3 1]\n"
     ]
    }
   ],
   "source": [
    "le_s = LabelEncoder()\n",
    "print(smooth_train_labels_s[0:5])\n",
    "smooth_train_labels_s = le_s.fit_transform(smooth_train_labels_s)\n",
    "print(smooth_train_labels_s[0:5])"
   ]
  },
  {
   "cell_type": "code",
   "execution_count": 21,
   "metadata": {},
   "outputs": [
    {
     "name": "stdout",
     "output_type": "stream",
     "text": [
      "(3934, 288)\n",
      "(3934, 288)\n"
     ]
    }
   ],
   "source": [
    "std_scale_s = StandardScaler()\n",
    "print(smooth_train_features_s.shape)\n",
    "smooth_train_features_s = std_scale_s.fit_transform(smooth_train_features_s)\n",
    "print(smooth_train_features_s.shape)"
   ]
  },
  {
   "cell_type": "code",
   "execution_count": null,
   "metadata": {},
   "outputs": [],
   "source": []
  },
  {
   "cell_type": "markdown",
   "metadata": {},
   "source": [
    "### test set formation"
   ]
  },
  {
   "cell_type": "code",
   "execution_count": 23,
   "metadata": {},
   "outputs": [
    {
     "name": "stdout",
     "output_type": "stream",
     "text": [
      "(241, 289)\n"
     ]
    }
   ],
   "source": [
    "smooth_test_data = pd.read_csv(\"vidushi_288_10sc.csv\",index_col = 0)\n",
    "\n",
    "print(smooth_test_data.shape)"
   ]
  },
  {
   "cell_type": "code",
   "execution_count": 24,
   "metadata": {},
   "outputs": [
    {
     "name": "stdout",
     "output_type": "stream",
     "text": [
      "(241, 289)\n",
      "(241, 288)\n"
     ]
    }
   ],
   "source": [
    "smooth_test_features = smooth_test_data.copy()\n",
    "print(smooth_test_features.shape)\n",
    "smooth_test_labels = smooth_test_features[\"label\"]\n",
    "smooth_test_features = smooth_test_features.drop([\"label\"], axis = 1)\n",
    "print(smooth_test_features.shape)"
   ]
  },
  {
   "cell_type": "code",
   "execution_count": 25,
   "metadata": {},
   "outputs": [
    {
     "name": "stdout",
     "output_type": "stream",
     "text": [
      "0    sitting\n",
      "1    sitting\n",
      "2    sitting\n",
      "3    sitting\n",
      "4    sitting\n",
      "Name: label, dtype: object\n",
      "[1 1 1 1 1]\n"
     ]
    }
   ],
   "source": [
    "print(smooth_test_labels[0:5])\n",
    "smooth_test_labels = le_s.transform(smooth_test_labels)\n",
    "print(smooth_test_labels[0:5])"
   ]
  },
  {
   "cell_type": "code",
   "execution_count": 26,
   "metadata": {},
   "outputs": [
    {
     "name": "stdout",
     "output_type": "stream",
     "text": [
      "(241, 288)\n",
      "(241, 288)\n"
     ]
    }
   ],
   "source": [
    "print(smooth_test_features.shape)\n",
    "smooth_test_features = std_scale_s.transform(smooth_test_features)\n",
    "print(smooth_test_features.shape)"
   ]
  },
  {
   "cell_type": "code",
   "execution_count": 27,
   "metadata": {},
   "outputs": [
    {
     "name": "stdout",
     "output_type": "stream",
     "text": [
      "Decision Tree\n",
      "0.4854771784232365\n",
      "Random Forest\n",
      "0.4107883817427386\n",
      "Svm\n",
      "0.4315352697095436\n",
      "MLP\n",
      "0.4730290456431535\n",
      "Xgboost\n"
     ]
    },
    {
     "name": "stderr",
     "output_type": "stream",
     "text": [
      "d:\\anaconda\\lib\\site-packages\\sklearn\\preprocessing\\label.py:151: DeprecationWarning: The truth value of an empty array is ambiguous. Returning False, but in future this will result in an error. Use `array.size > 0` to check that an array is not empty.\n",
      "  if diff:\n"
     ]
    },
    {
     "name": "stdout",
     "output_type": "stream",
     "text": [
      "0.46473029045643155\n",
      "LogisticReg\n",
      "0.5560165975103735\n",
      "GaussianNB\n",
      "0.3941908713692946\n",
      "KNN\n",
      "0.5809128630705395\n"
     ]
    }
   ],
   "source": [
    "models = [\"Decision Tree\", \"Random Forest\", \"Svm\", \"MLP\", \"Xgboost\", \"LogisticReg\", \"GaussianNB\", \"KNN\"]\n",
    "for model in models:\n",
    "    print(model)\n",
    "    if model == \"Decision Tree\":\n",
    "        clf = DecisionTreeClassifier()\n",
    "        clf.fit(smooth_train_features_s,smooth_train_labels_s)\n",
    "    if model == \"Random Forest\":\n",
    "        clf = RandomForestClassifier()\n",
    "        clf.fit(smooth_train_features_s,smooth_train_labels_s)\n",
    "    if model == \"Svm\":\n",
    "        clf = svm.SVC()\n",
    "        clf.fit(smooth_train_features_s,smooth_train_labels_s)\n",
    "    if model == \"MLP\":\n",
    "        clf = MLPClassifier()\n",
    "        clf.fit(smooth_train_features_s,smooth_train_labels_s)\n",
    "    if model == \"Xgboost\":\n",
    "        clf = XGBClassifier()\n",
    "        clf.fit(smooth_train_features_s,smooth_train_labels_s)\n",
    "    if model == \"LogisticReg\":\n",
    "        clf = LogisticRegression()\n",
    "        clf.fit(smooth_train_features_s,smooth_train_labels_s)\n",
    "    if model == \"GaussianNB\":\n",
    "        clf = GaussianNB()\n",
    "        clf.fit(smooth_train_features_s,smooth_train_labels_s)\n",
    "    if model == \"KNN\":\n",
    "        clf = KNeighborsClassifier()\n",
    "        clf.fit(smooth_train_features_s,smooth_train_labels_s)\n",
    "\n",
    "    preds = clf.predict(smooth_test_features)\n",
    "    \n",
    "    print(accuracy_score(smooth_test_labels,preds))"
   ]
  },
  {
   "cell_type": "code",
   "execution_count": 58,
   "metadata": {},
   "outputs": [
    {
     "name": "stdout",
     "output_type": "stream",
     "text": [
      "Doing Grid Search for DTree\n",
      "Doing Grid Search for KNN\n",
      "0.5809128630705395\n",
      "6 0.5933609958506224\n",
      "8 0.6016597510373444\n",
      "9 0.6224066390041494\n",
      "25 0.6265560165975104\n",
      "26 0.6307053941908713\n",
      "34 0.6348547717842323\n",
      "37 0.6390041493775933\n",
      "39 0.6431535269709544\n",
      "45 0.6473029045643154\n"
     ]
    }
   ],
   "source": [
    "for model in [\"DTree\",\"KNN\"]:\n",
    "    print(\"Doing Grid Search for \" + model)\n",
    "    if model == \"DTree\":\n",
    "        continue\n",
    "        clf = DecisionTreeClassifier(random_state = 0)\n",
    "        clf.fit(smooth_train_features_s,smooth_train_labels_s)\n",
    "        preds = clf.predict(smooth_test_features)\n",
    "        print(accuracy_score(smooth_test_labels,preds))\n",
    "        best_accuracy = accuracy_score(smooth_test_labels,preds)\n",
    "        \n",
    "        for max_features in range(1,288):\n",
    "            clf = DecisionTreeClassifier(max_features = max_features, random_state = 0)\n",
    "            clf.fit(smooth_train_features_s,smooth_train_labels_s)\n",
    "            preds = clf.predict(smooth_test_features)\n",
    "            acc = accuracy_score(smooth_test_labels,preds)\n",
    "            if acc > best_accuracy:\n",
    "                print(str(max_features) + \" \" +  str(acc))\n",
    "                best_accuracy = acc\n",
    "    if model == \"KNN\":\n",
    "        #continue\n",
    "        clf = KNeighborsClassifier()\n",
    "        clf.fit(smooth_train_features_s,smooth_train_labels_s)\n",
    "        preds = clf.predict(smooth_test_features)\n",
    "        print(accuracy_score(smooth_test_labels,preds))\n",
    "        best_accuracy = accuracy_score(smooth_test_labels,preds)\n",
    "        \n",
    "        for n_neighbors in range(1,1000):\n",
    "            clf = KNeighborsClassifier(n_neighbors = n_neighbors)\n",
    "            clf.fit(smooth_train_features_s,smooth_train_labels_s)\n",
    "            preds = clf.predict(smooth_test_features)\n",
    "            acc = accuracy_score(smooth_test_labels,preds)\n",
    "            if acc > best_accuracy:\n",
    "                print(str(n_neighbors) + \" \" +  str(acc))\n",
    "                best_accuracy = acc\n",
    "            \n",
    "        "
   ]
  },
  {
   "cell_type": "markdown",
   "metadata": {},
   "source": [
    "# Estimating Metrics"
   ]
  },
  {
   "cell_type": "code",
   "execution_count": 72,
   "metadata": {},
   "outputs": [
    {
     "name": "stderr",
     "output_type": "stream",
     "text": [
      "d:\\anaconda\\lib\\site-packages\\sklearn\\preprocessing\\label.py:151: DeprecationWarning: The truth value of an empty array is ambiguous. Returning False, but in future this will result in an error. Use `array.size > 0` to check that an array is not empty.\n",
      "  if diff:\n",
      "d:\\anaconda\\lib\\site-packages\\sklearn\\preprocessing\\label.py:151: DeprecationWarning: The truth value of an empty array is ambiguous. Returning False, but in future this will result in an error. Use `array.size > 0` to check that an array is not empty.\n",
      "  if diff:\n"
     ]
    },
    {
     "name": "stdout",
     "output_type": "stream",
     "text": [
      "Confusion matrix, without normalization\n",
      "[[32  4 17  1]\n",
      " [ 8 32 36  1]\n",
      " [ 0  2 47  0]\n",
      " [ 1  1 25 34]]\n"
     ]
    },
    {
     "data": {
      "image/png": "[encoded data removed]",
      "text/plain": [
       "<matplotlib.figure.Figure at 0x26ce2ccf208>"
      ]
     },
     "metadata": {},
     "output_type": "display_data"
    },
    {
     "name": "stdout",
     "output_type": "stream",
     "text": [
      "0.6016597510373444\n"
     ]
    },
    {
     "data": {
      "image/png": "[encoded data removed]",
      "text/plain": [
       "<matplotlib.figure.Figure at 0x26ce2be8198>"
      ]
     },
     "metadata": {},
     "output_type": "display_data"
    },
    {
     "data": {
      "image/png": "[encoded data removed]",
      "text/plain": [
       "<matplotlib.figure.Figure at 0x26cc9a09c88>"
      ]
     },
     "metadata": {},
     "output_type": "display_data"
    },
    {
     "name": "stdout",
     "output_type": "stream",
     "text": [
      "[0.7804878  0.82051282 0.376      0.94444444]\n"
     ]
    }
   ],
   "source": [
    "clf_DT = DecisionTreeClassifier(max_features = 31, random_state = 0)\n",
    "clf_DT.fit(smooth_train_features_s,smooth_train_labels_s)\n",
    "preds = clf_DT.predict(smooth_test_features)\n",
    "#pred_labels = le_s.inverse_transform(preds)\n",
    "#print(pred_labels[0:5])\n",
    "plot_confusion_matrix(confusion_matrix(le_s.inverse_transform(smooth_test_labels),le_s.inverse_transform(preds)), classes = le_s.classes_)\n",
    "print(accuracy_score(smooth_test_labels,preds))\n",
    "score_dt = clf_DT.predict_proba(smooth_test_features)\n",
    "p_dt = dict()\n",
    "r_dt = dict()\n",
    "pr_auc_dt = dict()\n",
    "fpr_dt = dict()\n",
    "tpr_dt = dict()\n",
    "roc_auc_dt = dict()\n",
    "smooth_test_labels_bin = label_binarize(smooth_test_labels, classes = [0,1,2,3])\n",
    "p_dt[\"micro\"],r_dt[\"micro\"],_ = precision_recall_curve(smooth_test_labels_bin.ravel(),score_dt.ravel())\n",
    "pr_auc_dt[\"micro\"] = average_precision_score(smooth_test_labels_bin, score_dt,\n",
    "                                                     average=\"micro\")\n",
    "fpr_dt[\"micro\"],tpr_dt[\"micro\"], _ = roc_curve(smooth_test_labels_bin.ravel(),score_dt.ravel())\n",
    "roc_auc_dt[\"micro\"] = auc(fpr_dt[\"micro\"], tpr_dt[\"micro\"])\n",
    "plt.plot(r_dt[\"micro\"], p_dt[\"micro\"], color='red', lw=2,\n",
    "            label='auc = {0}'.format(pr_auc_dt[\"micro\"]))\n",
    "plt.legend(loc=\"lower left\")\n",
    "plt.title('Precision Recall Curve ')\n",
    "plt.xlabel('Recall')\n",
    "plt.ylabel('Precision')\n",
    "plt.ylim([0.0, 1.05])\n",
    "plt.xlim([0.0, 1.0])\n",
    "plt.show()\n",
    "plt.plot(fpr_dt[\"micro\"], tpr_dt[\"micro\"], color='red',\n",
    "         lw=2, label='auc = {0}'.format(roc_auc_dt[\"micro\"]))\n",
    "plt.legend(loc=\"lower right\")\n",
    "plt.title('ROC Curve ')\n",
    "plt.xlabel('FPR')\n",
    "plt.ylabel('TPR')\n",
    "plt.ylim([0.0, 1.05])\n",
    "plt.xlim([0.0, 1.0])\n",
    "plt.show()\n",
    "print(precision_score(smooth_test_labels, preds, average=None))"
   ]
  },
  {
   "cell_type": "code",
   "execution_count": 73,
   "metadata": {},
   "outputs": [
    {
     "name": "stderr",
     "output_type": "stream",
     "text": [
      "d:\\anaconda\\lib\\site-packages\\sklearn\\preprocessing\\label.py:151: DeprecationWarning: The truth value of an empty array is ambiguous. Returning False, but in future this will result in an error. Use `array.size > 0` to check that an array is not empty.\n",
      "  if diff:\n",
      "d:\\anaconda\\lib\\site-packages\\sklearn\\preprocessing\\label.py:151: DeprecationWarning: The truth value of an empty array is ambiguous. Returning False, but in future this will result in an error. Use `array.size > 0` to check that an array is not empty.\n",
      "  if diff:\n"
     ]
    },
    {
     "name": "stdout",
     "output_type": "stream",
     "text": [
      "Confusion matrix, without normalization\n",
      "[[11 38  5  0]\n",
      " [ 4 56 17  0]\n",
      " [ 4  4 38  3]\n",
      " [ 2  1  7 51]]\n"
     ]
    },
    {
     "data": {
      "image/png": "[encoded data removed]",
      "text/plain": [
       "<matplotlib.figure.Figure at 0x26ce2809828>"
      ]
     },
     "metadata": {},
     "output_type": "display_data"
    },
    {
     "name": "stdout",
     "output_type": "stream",
     "text": [
      "0.6473029045643154\n"
     ]
    },
    {
     "data": {
      "image/png": "[encoded data removed]",
      "text/plain": [
       "<matplotlib.figure.Figure at 0x26cdeabb5c0>"
      ]
     },
     "metadata": {},
     "output_type": "display_data"
    },
    {
     "data": {
      "image/png": "[encoded data removed]",
      "text/plain": [
       "<matplotlib.figure.Figure at 0x26ce2cb9f98>"
      ]
     },
     "metadata": {},
     "output_type": "display_data"
    },
    {
     "name": "stdout",
     "output_type": "stream",
     "text": [
      "[0.52380952 0.56565657 0.56716418 0.94444444]\n"
     ]
    }
   ],
   "source": [
    "clf_knn = KNeighborsClassifier(n_neighbors = 45)\n",
    "clf_knn.fit(smooth_train_features_s,smooth_train_labels_s)\n",
    "preds = clf_knn.predict(smooth_test_features)\n",
    "#pred_labels = le_s.inverse_transform(preds)\n",
    "#print(pred_labels[0:5])\n",
    "plot_confusion_matrix(confusion_matrix(le_s.inverse_transform(smooth_test_labels),le_s.inverse_transform(preds)), classes = le_s.classes_)\n",
    "print(accuracy_score(smooth_test_labels,preds))\n",
    "score_knn = clf_knn.predict_proba(smooth_test_features)\n",
    "p_knn = dict()\n",
    "r_knn = dict()\n",
    "pr_auc_knn = dict()\n",
    "fpr_knn = dict()\n",
    "tpr_knn = dict()\n",
    "roc_auc_knn = dict()\n",
    "p_knn[\"micro\"],r_knn[\"micro\"],_ = precision_recall_curve(smooth_test_labels_bin.ravel(),score_knn.ravel())\n",
    "pr_auc_knn[\"micro\"] = average_precision_score(smooth_test_labels_bin, score_knn,\n",
    "                                                     average=\"micro\")\n",
    "fpr_knn[\"micro\"],tpr_knn[\"micro\"], _ = roc_curve(smooth_test_labels_bin.ravel(),score_knn.ravel())\n",
    "roc_auc_knn[\"micro\"] = auc(fpr_knn[\"micro\"], tpr_knn[\"micro\"])\n",
    "plt.plot(r_knn[\"micro\"], p_knn[\"micro\"], color='red', lw=2,\n",
    "            label='auc = {0}'.format(pr_auc_knn[\"micro\"]))\n",
    "plt.legend(loc=\"lower left\")\n",
    "plt.title('Precision Recall Curve ')\n",
    "plt.xlabel('Recall')\n",
    "plt.ylabel('Precision')\n",
    "plt.ylim([0.0, 1.05])\n",
    "plt.xlim([0.0, 1.0])\n",
    "plt.show()\n",
    "plt.plot(fpr_knn[\"micro\"], tpr_knn[\"micro\"], color='red',\n",
    "         lw=2, label='auc = {0}'.format(roc_auc_knn[\"micro\"]))\n",
    "plt.legend(loc=\"lower right\")\n",
    "plt.title('ROC Curve ')\n",
    "plt.xlabel('FPR')\n",
    "plt.ylabel('TPR')\n",
    "plt.ylim([0.0, 1.05])\n",
    "plt.xlim([0.0, 1.0])\n",
    "plt.show()\n",
    "\n",
    "print(precision_score(smooth_test_labels, preds, average=None))\n"
   ]
  },
  {
   "cell_type": "code",
   "execution_count": 74,
   "metadata": {},
   "outputs": [
    {
     "name": "stderr",
     "output_type": "stream",
     "text": [
      "d:\\anaconda\\lib\\site-packages\\sklearn\\preprocessing\\label.py:151: DeprecationWarning: The truth value of an empty array is ambiguous. Returning False, but in future this will result in an error. Use `array.size > 0` to check that an array is not empty.\n",
      "  if diff:\n"
     ]
    },
    {
     "data": {
      "text/plain": [
       "array(['laying_down', 'sitting', 'standing', 'walking'], dtype=object)"
      ]
     },
     "execution_count": 74,
     "metadata": {},
     "output_type": "execute_result"
    }
   ],
   "source": [
    "le_s.inverse_transform([0,1,2,3])"
   ]
  },
  {
   "cell_type": "code",
   "execution_count": null,
   "metadata": {},
   "outputs": [],
   "source": []
  }
 ],
 "metadata": {
  "kernelspec": {
   "display_name": "Python [default]",
   "language": "python",
   "name": "python3"
  },
  "language_info": {
   "codemirror_mode": {
    "name": "ipython",
    "version": 3
   },
   "file_extension": ".py",
   "mimetype": "text/x-python",
   "name": "python",
   "nbconvert_exporter": "python",
   "pygments_lexer": "ipython3",
   "version": "3.5.2"
  }
 },
 "nbformat": 4,
 "nbformat_minor": 2
}
